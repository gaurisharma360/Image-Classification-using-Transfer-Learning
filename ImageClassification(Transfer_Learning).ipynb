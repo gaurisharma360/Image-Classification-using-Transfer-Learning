{
  "nbformat": 4,
  "nbformat_minor": 0,
  "metadata": {
    "colab": {
      "name": "ImageClassification(Transfer Learning).ipynb",
      "provenance": [],
      "collapsed_sections": [],
      "authorship_tag": "ABX9TyPHNLN7Ss1Gr6iEqVAIVwiG",
      "include_colab_link": true
    },
    "kernelspec": {
      "name": "python3",
      "display_name": "Python 3"
    }
  },
  "cells": [
    {
      "cell_type": "markdown",
      "metadata": {
        "id": "view-in-github",
        "colab_type": "text"
      },
      "source": [
        "<a href=\"https://colab.research.google.com/github/gaurisharma360/Image-Classification-using-Transfer-Learning/blob/main/ImageClassification(Transfer_Learning).ipynb\" target=\"_parent\"><img src=\"https://colab.research.google.com/assets/colab-badge.svg\" alt=\"Open In Colab\"/></a>"
      ]
    },
    {
      "cell_type": "code",
      "metadata": {
        "colab": {
          "base_uri": "https://localhost:8080/"
        },
        "id": "MbeN5N0m-Mxo",
        "outputId": "0d038779-0fd4-4799-b21b-9f25dfaf7b08"
      },
      "source": [
        "#Toknow execution time of each cell\n",
        "!pip install ipython-autotime\n",
        "%load_ext autotime"
      ],
      "execution_count": null,
      "outputs": [
        {
          "output_type": "stream",
          "text": [
            "Collecting ipython-autotime\n",
            "  Downloading https://files.pythonhosted.org/packages/3f/58/a4a65efcce5c81a67b6893ade862736de355a3a718af5533d30c991831ce/ipython_autotime-0.2.0-py2.py3-none-any.whl\n",
            "Requirement already satisfied: ipython in /usr/local/lib/python3.6/dist-packages (from ipython-autotime) (5.5.0)\n",
            "Requirement already satisfied: pickleshare in /usr/local/lib/python3.6/dist-packages (from ipython->ipython-autotime) (0.7.5)\n",
            "Requirement already satisfied: simplegeneric>0.8 in /usr/local/lib/python3.6/dist-packages (from ipython->ipython-autotime) (0.8.1)\n",
            "Requirement already satisfied: decorator in /usr/local/lib/python3.6/dist-packages (from ipython->ipython-autotime) (4.4.2)\n",
            "Requirement already satisfied: traitlets>=4.2 in /usr/local/lib/python3.6/dist-packages (from ipython->ipython-autotime) (4.3.3)\n",
            "Requirement already satisfied: pexpect; sys_platform != \"win32\" in /usr/local/lib/python3.6/dist-packages (from ipython->ipython-autotime) (4.8.0)\n",
            "Requirement already satisfied: pygments in /usr/local/lib/python3.6/dist-packages (from ipython->ipython-autotime) (2.6.1)\n",
            "Requirement already satisfied: setuptools>=18.5 in /usr/local/lib/python3.6/dist-packages (from ipython->ipython-autotime) (50.3.2)\n",
            "Requirement already satisfied: prompt-toolkit<2.0.0,>=1.0.4 in /usr/local/lib/python3.6/dist-packages (from ipython->ipython-autotime) (1.0.18)\n",
            "Requirement already satisfied: six in /usr/local/lib/python3.6/dist-packages (from traitlets>=4.2->ipython->ipython-autotime) (1.15.0)\n",
            "Requirement already satisfied: ipython-genutils in /usr/local/lib/python3.6/dist-packages (from traitlets>=4.2->ipython->ipython-autotime) (0.2.0)\n",
            "Requirement already satisfied: ptyprocess>=0.5 in /usr/local/lib/python3.6/dist-packages (from pexpect; sys_platform != \"win32\"->ipython->ipython-autotime) (0.6.0)\n",
            "Requirement already satisfied: wcwidth in /usr/local/lib/python3.6/dist-packages (from prompt-toolkit<2.0.0,>=1.0.4->ipython->ipython-autotime) (0.2.5)\n",
            "Installing collected packages: ipython-autotime\n",
            "Successfully installed ipython-autotime-0.2.0\n",
            "time: 1.34 ms\n"
          ],
          "name": "stdout"
        }
      ]
    },
    {
      "cell_type": "code",
      "metadata": {
        "colab": {
          "base_uri": "https://localhost:8080/"
        },
        "id": "Jm1z7Otd3YEi",
        "outputId": "37c3c559-8550-44a1-be8e-5095050f23b1"
      },
      "source": [
        "#Project like Teachable Machine by Google\n",
        "# Data:Images\n",
        "#Downloaded manually from google\n",
        "#Kaggle\n",
        "#Using web crawler\n",
        "#using python tools to scrape images(this is done :saving each image difficult)"
      ],
      "execution_count": null,
      "outputs": [
        {
          "output_type": "stream",
          "text": [
            "time: 2.06 ms\n"
          ],
          "name": "stdout"
        }
      ]
    },
    {
      "cell_type": "code",
      "metadata": {
        "colab": {
          "base_uri": "https://localhost:8080/"
        },
        "id": "GzZwCzh44iG_",
        "outputId": "fde524a9-f5b0-4501-c0a7-cc1e094de56a"
      },
      "source": [
        "!pip install bing-image-downloader"
      ],
      "execution_count": null,
      "outputs": [
        {
          "output_type": "stream",
          "text": [
            "Collecting bing-image-downloader\n",
            "  Downloading https://files.pythonhosted.org/packages/0d/bf/537a61030b84ae4cd5022d5c7b014fd9bc3ce7c02358919153a6658a61d3/bing_image_downloader-1.0.4-py3-none-any.whl\n",
            "Installing collected packages: bing-image-downloader\n",
            "Successfully installed bing-image-downloader-1.0.4\n",
            "time: 2.93 s\n"
          ],
          "name": "stdout"
        }
      ]
    },
    {
      "cell_type": "code",
      "metadata": {
        "colab": {
          "base_uri": "https://localhost:8080/"
        },
        "id": "64-OeMW854w9",
        "outputId": "c5e4503a-295a-4aab-b976-38b84dd59663"
      },
      "source": [
        "#making a directory\n",
        "! mkdir images"
      ],
      "execution_count": null,
      "outputs": [
        {
          "output_type": "stream",
          "text": [
            "time: 115 ms\n"
          ],
          "name": "stdout"
        }
      ]
    },
    {
      "cell_type": "code",
      "metadata": {
        "colab": {
          "base_uri": "https://localhost:8080/"
        },
        "id": "OFowyia6ZRgb",
        "outputId": "f7a318d0-5186-49ba-f8d9-e5d86d649c49"
      },
      "source": [
        "from bing_image_downloader import downloader"
      ],
      "execution_count": null,
      "outputs": [
        {
          "output_type": "stream",
          "text": [
            "time: 9.01 ms\n"
          ],
          "name": "stdout"
        }
      ]
    },
    {
      "cell_type": "code",
      "metadata": {
        "colab": {
          "base_uri": "https://localhost:8080/"
        },
        "id": "pHkQwRXQ6_ot",
        "outputId": "78c492bb-4506-46b9-b787-2a224d8e9c01"
      },
      "source": [
        "downloader.download(\"Rugby Ball\",limit=40,output_dir=\"images\",adult_filter_off=True)"
      ],
      "execution_count": null,
      "outputs": [
        {
          "output_type": "stream",
          "text": [
            "\n",
            "\n",
            "[!!]Indexing page: 1\n",
            "\n",
            "[%] Indexed 17 Images on Page 1.\n",
            "\n",
            "===============================================\n",
            "\n",
            "[%] Downloading Image #1 from https://upload.wikimedia.org/wikipedia/commons/thumb/a/ac/RugbyPitchMetricDetailed.svg/1200px-RugbyPitchMetricDetailed.svg.png\n",
            "[%] File Downloaded !\n",
            "\n",
            "[%] Downloading Image #2 from https://images.daznservices.com/di/library/NBA_Global_CMS_image_storage/4e/a9/lamelo-ball-011620-ftr-gettyjpg_1ulfaqm50r0201fmun9pcpj7qe.jpg?t=-1298004689&amp;quality=100\n",
            "[%] File Downloaded !\n",
            "\n",
            "[%] Downloading Image #3 from http://3.bp.blogspot.com/_T9FK7xegbbE/TJzTx_Yo_7I/AAAAAAAAAIE/YTxcINdvkrI/s1600/Lisa-01-bloggym.jpg\n",
            "[%] File Downloaded !\n",
            "\n",
            "[%] Downloading Image #4 from https://www.newshub.co.nz/home/sport/2017/11/sonny-bill-williams-doesn-t-know-the-rules-all-blacks-coach-steve-hansen/_jcr_content/par/video/image.dynimg.1280.q75.jpg/v1510450561840/Sonny_Bill_williams_getty.jpg\n",
            "[%] File Downloaded !\n",
            "\n",
            "[%] Downloading Image #5 from https://www2.pictures.zimbio.com/gi/Children+with+Cancer+Ball+s2hYP3yIeoCx.jpg\n",
            "[%] File Downloaded !\n",
            "\n",
            "[%] Downloading Image #6 from https://cdn.acidcow.com/pics/20111123/houston_texans_78.jpg\n",
            "[%] File Downloaded !\n",
            "\n",
            "[%] Downloading Image #7 from https://www.hdwallpapers.in/download/tyler_herro_is_trying_to_put_ball_to_basket_from_long_distance_wearing_white_dress_hd_sports-1920x1080.jpg\n",
            "[%] File Downloaded !\n",
            "\n",
            "[%] Downloading Image #8 from http://wallpapershome.com/images/wallpapers/madden-nfl-15-5837x3283-american-football-sports-game-nfl-ps4-xbox-3240.jpg\n",
            "[%] File Downloaded !\n",
            "\n",
            "[%] Downloading Image #9 from https://www.rightthisminute.com/sites/default/files/videos/images/completley-.jpg\n",
            "[%] File Downloaded !\n",
            "\n",
            "[%] Downloading Image #10 from https://img.pngio.com/emmy-award-award-png-301_564.png\n",
            "[%] File Downloaded !\n",
            "\n",
            "[%] Downloading Image #11 from https://img.pngio.com/desserts-the-downtown-cafe-glen-cove-ny-png-desserts-421_600.png\n",
            "[%] File Downloaded !\n",
            "\n",
            "[%] Downloading Image #12 from https://i2-prod.mirror.co.uk/incoming/article21848720.ece/ALTERNATES/s1200/0_cannonball-1586438522JPG.jpg\n",
            "[%] File Downloaded !\n",
            "\n",
            "[%] Downloading Image #13 from http://i.ytimg.com/vi/pbPZHoghuKo/maxresdefault.jpg\n",
            "[%] File Downloaded !\n",
            "\n",
            "[%] Downloading Image #14 from https://www.victoriabakery.co.uk/images/cakes/birthday/full/round-traditional.jpg\n",
            "[%] File Downloaded !\n",
            "\n",
            "[%] Downloading Image #15 from https://www.bigw.com.au/medias/sys_master/images/images/h65/h66/12315535999006.jpg\n",
            "[%] File Downloaded !\n",
            "\n",
            "[%] Downloading Image #16 from https://www.bigw.com.au/medias/sys_master/images/images/h04/hd3/12395965743134.jpg\n",
            "[%] File Downloaded !\n",
            "\n",
            "[%] Downloading Image #17 from https://hdlatestwallpaper.com/wp-content/uploads/2017/05/Need-for-Speed-Rivals-Ford-Mustang-HD-Wallpaper.jpg\n",
            "[%] File Downloaded !\n",
            "\n",
            "\n",
            "\n",
            "[!!]Indexing page: 2\n",
            "\n",
            "[%] Indexed 17 Images on Page 2.\n",
            "\n",
            "===============================================\n",
            "\n",
            "[%] Downloading Image #18 from https://upload.wikimedia.org/wikipedia/commons/thumb/a/ac/RugbyPitchMetricDetailed.svg/1200px-RugbyPitchMetricDetailed.svg.png\n",
            "[%] File Downloaded !\n",
            "\n",
            "[%] Downloading Image #19 from https://images.daznservices.com/di/library/NBA_Global_CMS_image_storage/4e/a9/lamelo-ball-011620-ftr-gettyjpg_1ulfaqm50r0201fmun9pcpj7qe.jpg?t=-1298004689&amp;quality=100\n",
            "[%] File Downloaded !\n",
            "\n",
            "[%] Downloading Image #20 from http://3.bp.blogspot.com/_T9FK7xegbbE/TJzTx_Yo_7I/AAAAAAAAAIE/YTxcINdvkrI/s1600/Lisa-01-bloggym.jpg\n",
            "[%] File Downloaded !\n",
            "\n",
            "[%] Downloading Image #21 from https://www.newshub.co.nz/home/sport/2017/11/sonny-bill-williams-doesn-t-know-the-rules-all-blacks-coach-steve-hansen/_jcr_content/par/video/image.dynimg.1280.q75.jpg/v1510450561840/Sonny_Bill_williams_getty.jpg\n",
            "[%] File Downloaded !\n",
            "\n",
            "[%] Downloading Image #22 from https://www2.pictures.zimbio.com/gi/Children+with+Cancer+Ball+s2hYP3yIeoCx.jpg\n",
            "[%] File Downloaded !\n",
            "\n",
            "[%] Downloading Image #23 from https://cdn.acidcow.com/pics/20111123/houston_texans_78.jpg\n",
            "[%] File Downloaded !\n",
            "\n",
            "[%] Downloading Image #24 from https://www.hdwallpapers.in/download/tyler_herro_is_trying_to_put_ball_to_basket_from_long_distance_wearing_white_dress_hd_sports-1920x1080.jpg\n",
            "[%] File Downloaded !\n",
            "\n",
            "[%] Downloading Image #25 from http://wallpapershome.com/images/wallpapers/madden-nfl-15-5837x3283-american-football-sports-game-nfl-ps4-xbox-3240.jpg\n",
            "[%] File Downloaded !\n",
            "\n",
            "[%] Downloading Image #26 from https://www.rightthisminute.com/sites/default/files/videos/images/completley-.jpg\n",
            "[%] File Downloaded !\n",
            "\n",
            "[%] Downloading Image #27 from https://img.pngio.com/emmy-award-award-png-301_564.png\n",
            "[%] File Downloaded !\n",
            "\n",
            "[%] Downloading Image #28 from https://img.pngio.com/desserts-the-downtown-cafe-glen-cove-ny-png-desserts-421_600.png\n",
            "[%] File Downloaded !\n",
            "\n",
            "[%] Downloading Image #29 from https://i2-prod.mirror.co.uk/incoming/article21848720.ece/ALTERNATES/s1200/0_cannonball-1586438522JPG.jpg\n",
            "[%] File Downloaded !\n",
            "\n",
            "[%] Downloading Image #30 from http://i.ytimg.com/vi/pbPZHoghuKo/maxresdefault.jpg\n",
            "[%] File Downloaded !\n",
            "\n",
            "[%] Downloading Image #31 from https://www.victoriabakery.co.uk/images/cakes/birthday/full/round-traditional.jpg\n",
            "[%] File Downloaded !\n",
            "\n",
            "[%] Downloading Image #32 from https://www.bigw.com.au/medias/sys_master/images/images/h65/h66/12315535999006.jpg\n",
            "[%] File Downloaded !\n",
            "\n",
            "[%] Downloading Image #33 from https://www.bigw.com.au/medias/sys_master/images/images/h04/hd3/12395965743134.jpg\n",
            "[%] File Downloaded !\n",
            "\n",
            "[%] Downloading Image #34 from https://hdlatestwallpaper.com/wp-content/uploads/2017/05/Need-for-Speed-Rivals-Ford-Mustang-HD-Wallpaper.jpg\n",
            "[%] File Downloaded !\n",
            "\n",
            "\n",
            "\n",
            "[!!]Indexing page: 3\n",
            "\n",
            "[%] Indexed 16 Images on Page 3.\n",
            "\n",
            "===============================================\n",
            "\n",
            "[%] Downloading Image #35 from https://images.daznservices.com/di/library/NBA_Global_CMS_image_storage/4e/a9/lamelo-ball-011620-ftr-gettyjpg_1ulfaqm50r0201fmun9pcpj7qe.jpg?t=-1298004689&amp;quality=100\n",
            "[%] File Downloaded !\n",
            "\n",
            "[%] Downloading Image #36 from http://3.bp.blogspot.com/_T9FK7xegbbE/TJzTx_Yo_7I/AAAAAAAAAIE/YTxcINdvkrI/s1600/Lisa-01-bloggym.jpg\n",
            "[%] File Downloaded !\n",
            "\n",
            "[%] Downloading Image #37 from https://www.newshub.co.nz/home/sport/2017/11/sonny-bill-williams-doesn-t-know-the-rules-all-blacks-coach-steve-hansen/_jcr_content/par/video/image.dynimg.1280.q75.jpg/v1510450561840/Sonny_Bill_williams_getty.jpg\n",
            "[%] File Downloaded !\n",
            "\n",
            "[%] Downloading Image #38 from https://www2.pictures.zimbio.com/gi/Children+with+Cancer+Ball+s2hYP3yIeoCx.jpg\n",
            "[%] File Downloaded !\n",
            "\n",
            "[%] Downloading Image #39 from https://cdn.acidcow.com/pics/20111123/houston_texans_78.jpg\n",
            "[%] File Downloaded !\n",
            "\n",
            "[%] Downloading Image #40 from https://www.hdwallpapers.in/download/tyler_herro_is_trying_to_put_ball_to_basket_from_long_distance_wearing_white_dress_hd_sports-1920x1080.jpg\n",
            "[%] File Downloaded !\n",
            "\n",
            "\n",
            "\n",
            "[%] Done. Downloaded 40 images.\n",
            "\n",
            "===============================================\n",
            "\n",
            "time: 42.1 s\n"
          ],
          "name": "stdout"
        }
      ]
    },
    {
      "cell_type": "code",
      "metadata": {
        "id": "4TYIYI2w8c4R",
        "colab": {
          "base_uri": "https://localhost:8080/"
        },
        "outputId": "a632b09a-bab3-406b-90ae-88308f41d7ce"
      },
      "source": [
        " downloader.download(\"Wolf\",limit=40,output_dir=\"images\",adult_filter_off=True)"
      ],
      "execution_count": null,
      "outputs": [
        {
          "output_type": "stream",
          "text": [
            "\n",
            "\n",
            "[!!]Indexing page: 1\n",
            "\n",
            "[%] Indexed 17 Images on Page 1.\n",
            "\n",
            "===============================================\n",
            "\n",
            "[%] Downloading Image #1 from https://www.gratistodo.com/wp-content/uploads/2017/08/Lobos-Wolf-4.gif\n",
            "[%] File Downloaded !\n",
            "\n",
            "[%] Downloading Image #2 from https://www.bing.com/th/id/OGC.358b3f85af83e94ff9c46bba3dfd22f7?pid=1.7&amp;rurl=https%3a%2f%2fwww.gratistodo.com%2fwp-content%2fuploads%2f2017%2f08%2fLobos-Wolf-4.gif&amp;ehk=bSemql%2fDv5mKKNaQ0yUDNm7n9khEa8gZmqjcONyikks%3d\n",
            "[!] Issue getting: https://www.bing.com/th/id/OGC.358b3f85af83e94ff9c46bba3dfd22f7?pid=1.7&amp;rurl=https%3a%2f%2fwww.gratistodo.com%2fwp-content%2fuploads%2f2017%2f08%2fLobos-Wolf-4.gif&amp;ehk=bSemql%2fDv5mKKNaQ0yUDNm7n9khEa8gZmqjcONyikks%3d\n",
            "[!] Error:: HTTP Error 404: Not Found\n",
            "[%] Downloading Image #2 from http://4.bp.blogspot.com/-HME1RiS-KJw/VmW0kJaFwLI/AAAAAAAAB64/66vnU-hkOuE/s1600/Leopard%2Brafapasta.jpg\n",
            "[%] File Downloaded !\n",
            "\n",
            "[%] Downloading Image #3 from https://wallpapersite.com/images/wallpapers/ariana-grande-1440x2560-4k-15011.jpg\n",
            "[!] Issue getting: https://wallpapersite.com/images/wallpapers/ariana-grande-1440x2560-4k-15011.jpg\n",
            "[!] Error:: HTTP Error 404: Not Found\n",
            "[%] Downloading Image #3 from https://www.recreoviral.com/wp-content/uploads/2016/01/Fotografías-tomadas-en-el-momento-exacto-2-730x548.jpg\n",
            "[!] Issue getting: https://www.recreoviral.com/wp-content/uploads/2016/01/Fotografías-tomadas-en-el-momento-exacto-2-730x548.jpg\n",
            "[!] Error:: 'ascii' codec can't encode character '\\xed' in position 40: ordinal not in range(128)\n",
            "[%] Downloading Image #3 from https://wallpapersite.com/images/wallpapers/wolf-1920x1080-wild-snow-winter-cold-hd-10060.jpg\n",
            "[!] Issue getting: https://wallpapersite.com/images/wallpapers/wolf-1920x1080-wild-snow-winter-cold-hd-10060.jpg\n",
            "[!] Error:: HTTP Error 404: Not Found\n",
            "[%] Downloading Image #3 from http://edwardaldrich.com/wp-content/uploads/2016/11/lonewolf-422x1024.jpg\n",
            "[%] File Downloaded !\n",
            "\n",
            "[%] Downloading Image #4 from https://wallpapershome.com/images/wallpapers/the-boss-baby-1440x2560-baby-costume-best-animation-movies-12768.jpg\n",
            "[%] File Downloaded !\n",
            "\n",
            "[%] Downloading Image #5 from https://wallpapersite.com/images/wallpapers/wolf-480x854-mythical-dark-winter-4k-11339.jpg\n",
            "[!] Issue getting: https://wallpapersite.com/images/wallpapers/wolf-480x854-mythical-dark-winter-4k-11339.jpg\n",
            "[!] Error:: HTTP Error 404: Not Found\n",
            "[%] Downloading Image #5 from https://digitalsynopsis.com/wp-content/uploads/2016/06/body-art-paintings-nature-inspired-illusions-seasons-1.jpg\n",
            "[%] File Downloaded !\n",
            "\n",
            "[%] Downloading Image #6 from https://www.earthlymission.com/wp-content/uploads/2015/10/8-France_in_XXI_Century._Electric_scrubbing-1280x807.jpg\n",
            "[%] File Downloaded !\n",
            "\n",
            "[%] Downloading Image #7 from https://wallpapershome.com/images/wallpapers/wolf-720x1280-hellhound-art-black-and-white-dangerous-noise-darkness-4072.jpg\n",
            "[%] File Downloaded !\n",
            "\n",
            "[%] Downloading Image #8 from https://www.newcitycoeds.com/wp-content/uploads/2015/07/DSC_7280-200x300.jpg\n",
            "[%] File Downloaded !\n",
            "\n",
            "[%] Downloading Image #9 from https://www.tattoosforyou.org/wp-content/uploads/2016/05/Scrolls-Tattoos.jpg\n",
            "[%] File Downloaded !\n",
            "\n",
            "[%] Downloading Image #10 from https://www.gratistodo.com/wp-content/uploads/2016/01/19-3-800x450.jpg\n",
            "[%] File Downloaded !\n",
            "\n",
            "[%] Downloading Image #11 from https://wallpapersite.com/images/wallpapers/white-wolf-1440x2560-arctic-wolf-fantasy-digital-art-4k-11343.jpg\n",
            "[!] Issue getting: https://wallpapersite.com/images/wallpapers/white-wolf-1440x2560-arctic-wolf-fantasy-digital-art-4k-11343.jpg\n",
            "[!] Error:: HTTP Error 404: Not Found\n",
            "[%] Downloading Image #11 from http://www.ecofashiontalk.com/wp-content/uploads/2016/12/ViktorAndRolfF16g.jpg\n",
            "[%] File Downloaded !\n",
            "\n",
            "\n",
            "\n",
            "[!!]Indexing page: 2\n",
            "\n",
            "[%] Indexed 17 Images on Page 2.\n",
            "\n",
            "===============================================\n",
            "\n",
            "[%] Downloading Image #12 from https://www.gratistodo.com/wp-content/uploads/2017/08/Lobos-Wolf-4.gif\n",
            "[%] File Downloaded !\n",
            "\n",
            "[%] Downloading Image #13 from https://www.bing.com/th/id/OGC.358b3f85af83e94ff9c46bba3dfd22f7?pid=1.7&amp;rurl=https%3a%2f%2fwww.gratistodo.com%2fwp-content%2fuploads%2f2017%2f08%2fLobos-Wolf-4.gif&amp;ehk=bSemql%2fDv5mKKNaQ0yUDNm7n9khEa8gZmqjcONyikks%3d\n",
            "[!] Issue getting: https://www.bing.com/th/id/OGC.358b3f85af83e94ff9c46bba3dfd22f7?pid=1.7&amp;rurl=https%3a%2f%2fwww.gratistodo.com%2fwp-content%2fuploads%2f2017%2f08%2fLobos-Wolf-4.gif&amp;ehk=bSemql%2fDv5mKKNaQ0yUDNm7n9khEa8gZmqjcONyikks%3d\n",
            "[!] Error:: HTTP Error 404: Not Found\n",
            "[%] Downloading Image #13 from http://4.bp.blogspot.com/-HME1RiS-KJw/VmW0kJaFwLI/AAAAAAAAB64/66vnU-hkOuE/s1600/Leopard%2Brafapasta.jpg\n",
            "[%] File Downloaded !\n",
            "\n",
            "[%] Downloading Image #14 from https://wallpapersite.com/images/wallpapers/ariana-grande-1440x2560-4k-15011.jpg\n",
            "[!] Issue getting: https://wallpapersite.com/images/wallpapers/ariana-grande-1440x2560-4k-15011.jpg\n",
            "[!] Error:: HTTP Error 404: Not Found\n",
            "[%] Downloading Image #14 from https://www.recreoviral.com/wp-content/uploads/2016/01/Fotografías-tomadas-en-el-momento-exacto-2-730x548.jpg\n",
            "[!] Issue getting: https://www.recreoviral.com/wp-content/uploads/2016/01/Fotografías-tomadas-en-el-momento-exacto-2-730x548.jpg\n",
            "[!] Error:: 'ascii' codec can't encode character '\\xed' in position 40: ordinal not in range(128)\n",
            "[%] Downloading Image #14 from https://wallpapersite.com/images/wallpapers/wolf-1920x1080-wild-snow-winter-cold-hd-10060.jpg\n",
            "[!] Issue getting: https://wallpapersite.com/images/wallpapers/wolf-1920x1080-wild-snow-winter-cold-hd-10060.jpg\n",
            "[!] Error:: HTTP Error 404: Not Found\n",
            "[%] Downloading Image #14 from http://edwardaldrich.com/wp-content/uploads/2016/11/lonewolf-422x1024.jpg\n",
            "[%] File Downloaded !\n",
            "\n",
            "[%] Downloading Image #15 from https://wallpapershome.com/images/wallpapers/the-boss-baby-1440x2560-baby-costume-best-animation-movies-12768.jpg\n",
            "[%] File Downloaded !\n",
            "\n",
            "[%] Downloading Image #16 from https://wallpapersite.com/images/wallpapers/wolf-480x854-mythical-dark-winter-4k-11339.jpg\n",
            "[!] Issue getting: https://wallpapersite.com/images/wallpapers/wolf-480x854-mythical-dark-winter-4k-11339.jpg\n",
            "[!] Error:: HTTP Error 404: Not Found\n",
            "[%] Downloading Image #16 from https://digitalsynopsis.com/wp-content/uploads/2016/06/body-art-paintings-nature-inspired-illusions-seasons-1.jpg\n",
            "[%] File Downloaded !\n",
            "\n",
            "[%] Downloading Image #17 from https://www.earthlymission.com/wp-content/uploads/2015/10/8-France_in_XXI_Century._Electric_scrubbing-1280x807.jpg\n",
            "[%] File Downloaded !\n",
            "\n",
            "[%] Downloading Image #18 from https://wallpapershome.com/images/wallpapers/wolf-720x1280-hellhound-art-black-and-white-dangerous-noise-darkness-4072.jpg\n",
            "[%] File Downloaded !\n",
            "\n",
            "[%] Downloading Image #19 from https://www.newcitycoeds.com/wp-content/uploads/2015/07/DSC_7280-200x300.jpg\n",
            "[%] File Downloaded !\n",
            "\n",
            "[%] Downloading Image #20 from https://www.tattoosforyou.org/wp-content/uploads/2016/05/Scrolls-Tattoos.jpg\n",
            "[%] File Downloaded !\n",
            "\n",
            "[%] Downloading Image #21 from https://www.gratistodo.com/wp-content/uploads/2016/01/19-3-800x450.jpg\n",
            "[%] File Downloaded !\n",
            "\n",
            "[%] Downloading Image #22 from https://wallpapersite.com/images/wallpapers/white-wolf-1440x2560-arctic-wolf-fantasy-digital-art-4k-11343.jpg\n",
            "[!] Issue getting: https://wallpapersite.com/images/wallpapers/white-wolf-1440x2560-arctic-wolf-fantasy-digital-art-4k-11343.jpg\n",
            "[!] Error:: HTTP Error 404: Not Found\n",
            "[%] Downloading Image #22 from http://www.ecofashiontalk.com/wp-content/uploads/2016/12/ViktorAndRolfF16g.jpg\n",
            "[%] File Downloaded !\n",
            "\n",
            "\n",
            "\n",
            "[!!]Indexing page: 3\n",
            "\n",
            "[%] Indexed 15 Images on Page 3.\n",
            "\n",
            "===============================================\n",
            "\n",
            "[%] Downloading Image #23 from https://www.recreoviral.com/wp-content/uploads/2016/01/Fotografías-tomadas-en-el-momento-exacto-2-730x548.jpg\n",
            "[!] Issue getting: https://www.recreoviral.com/wp-content/uploads/2016/01/Fotografías-tomadas-en-el-momento-exacto-2-730x548.jpg\n",
            "[!] Error:: 'ascii' codec can't encode character '\\xed' in position 40: ordinal not in range(128)\n",
            "[%] Downloading Image #23 from http://edwardaldrich.com/wp-content/uploads/2016/11/lonewolf-422x1024.jpg\n",
            "[%] File Downloaded !\n",
            "\n",
            "[%] Downloading Image #24 from https://www.tattoosforyou.org/wp-content/uploads/2016/05/Scrolls-Tattoos.jpg\n",
            "[%] File Downloaded !\n",
            "\n",
            "[%] Downloading Image #25 from https://wallpapersite.com/images/wallpapers/wolf-480x854-mythical-dark-winter-4k-11339.jpg\n",
            "[!] Issue getting: https://wallpapersite.com/images/wallpapers/wolf-480x854-mythical-dark-winter-4k-11339.jpg\n",
            "[!] Error:: HTTP Error 404: Not Found\n",
            "[%] Downloading Image #25 from https://digitalsynopsis.com/wp-content/uploads/2016/06/body-art-paintings-nature-inspired-illusions-seasons-1.jpg\n",
            "[%] File Downloaded !\n",
            "\n",
            "[%] Downloading Image #26 from https://www.earthlymission.com/wp-content/uploads/2015/10/8-France_in_XXI_Century._Electric_scrubbing-1280x807.jpg\n",
            "[%] File Downloaded !\n",
            "\n",
            "[%] Downloading Image #27 from https://wallpapershome.com/images/wallpapers/wolf-720x1280-hellhound-art-black-and-white-dangerous-noise-darkness-4072.jpg\n",
            "[%] File Downloaded !\n",
            "\n",
            "[%] Downloading Image #28 from https://www.newcitycoeds.com/wp-content/uploads/2015/07/DSC_7280-200x300.jpg\n",
            "[%] File Downloaded !\n",
            "\n",
            "[%] Downloading Image #29 from https://wallpapershome.com/images/wallpapers/the-boss-baby-1440x2560-baby-costume-best-animation-movies-12768.jpg\n",
            "[%] File Downloaded !\n",
            "\n",
            "[%] Downloading Image #30 from https://www.gratistodo.com/wp-content/uploads/2016/01/19-3-800x450.jpg\n",
            "[%] File Downloaded !\n",
            "\n",
            "[%] Downloading Image #31 from https://wallpapersite.com/images/wallpapers/wolf-1920x1080-wild-snow-winter-cold-hd-10060.jpg\n",
            "[!] Issue getting: https://wallpapersite.com/images/wallpapers/wolf-1920x1080-wild-snow-winter-cold-hd-10060.jpg\n",
            "[!] Error:: HTTP Error 404: Not Found\n",
            "[%] Downloading Image #31 from http://4.bp.blogspot.com/-HME1RiS-KJw/VmW0kJaFwLI/AAAAAAAAB64/66vnU-hkOuE/s1600/Leopard%2Brafapasta.jpg\n",
            "[%] File Downloaded !\n",
            "\n",
            "[%] Downloading Image #32 from https://wallpapersite.com/images/wallpapers/ariana-grande-1440x2560-4k-15011.jpg\n",
            "[!] Issue getting: https://wallpapersite.com/images/wallpapers/ariana-grande-1440x2560-4k-15011.jpg\n",
            "[!] Error:: HTTP Error 404: Not Found\n",
            "[%] Downloading Image #32 from https://wallpapersite.com/images/wallpapers/white-wolf-1440x2560-arctic-wolf-fantasy-digital-art-4k-11343.jpg\n",
            "[!] Issue getting: https://wallpapersite.com/images/wallpapers/white-wolf-1440x2560-arctic-wolf-fantasy-digital-art-4k-11343.jpg\n",
            "[!] Error:: HTTP Error 404: Not Found\n",
            "[%] Downloading Image #32 from http://www.ecofashiontalk.com/wp-content/uploads/2016/12/ViktorAndRolfF16g.jpg\n",
            "[%] File Downloaded !\n",
            "\n",
            "\n",
            "\n",
            "[!!]Indexing page: 4\n",
            "\n",
            "[%] Indexed 14 Images on Page 4.\n",
            "\n",
            "===============================================\n",
            "\n",
            "[%] Downloading Image #33 from https://wallpapersite.com/images/wallpapers/wolf-480x854-mythical-dark-winter-4k-11339.jpg\n",
            "[!] Issue getting: https://wallpapersite.com/images/wallpapers/wolf-480x854-mythical-dark-winter-4k-11339.jpg\n",
            "[!] Error:: HTTP Error 404: Not Found\n",
            "[%] Downloading Image #33 from https://digitalsynopsis.com/wp-content/uploads/2016/06/body-art-paintings-nature-inspired-illusions-seasons-1.jpg\n",
            "[%] File Downloaded !\n",
            "\n",
            "[%] Downloading Image #34 from https://www.earthlymission.com/wp-content/uploads/2015/10/8-France_in_XXI_Century._Electric_scrubbing-1280x807.jpg\n",
            "[%] File Downloaded !\n",
            "\n",
            "[%] Downloading Image #35 from https://wallpapershome.com/images/wallpapers/wolf-720x1280-hellhound-art-black-and-white-dangerous-noise-darkness-4072.jpg\n",
            "[%] File Downloaded !\n",
            "\n",
            "[%] Downloading Image #36 from https://www.newcitycoeds.com/wp-content/uploads/2015/07/DSC_7280-200x300.jpg\n",
            "[%] File Downloaded !\n",
            "\n",
            "[%] Downloading Image #37 from https://wallpapershome.com/images/wallpapers/the-boss-baby-1440x2560-baby-costume-best-animation-movies-12768.jpg\n",
            "[%] File Downloaded !\n",
            "\n",
            "[%] Downloading Image #38 from https://www.gratistodo.com/wp-content/uploads/2016/01/19-3-800x450.jpg\n",
            "[%] File Downloaded !\n",
            "\n",
            "[%] Downloading Image #39 from http://edwardaldrich.com/wp-content/uploads/2016/11/lonewolf-422x1024.jpg\n",
            "[%] File Downloaded !\n",
            "\n",
            "[%] Downloading Image #40 from https://wallpapersite.com/images/wallpapers/ariana-grande-1440x2560-4k-15011.jpg\n",
            "[!] Issue getting: https://wallpapersite.com/images/wallpapers/ariana-grande-1440x2560-4k-15011.jpg\n",
            "[!] Error:: HTTP Error 404: Not Found\n",
            "[%] Downloading Image #40 from https://wallpapersite.com/images/wallpapers/white-wolf-1440x2560-arctic-wolf-fantasy-digital-art-4k-11343.jpg\n",
            "[!] Issue getting: https://wallpapersite.com/images/wallpapers/white-wolf-1440x2560-arctic-wolf-fantasy-digital-art-4k-11343.jpg\n",
            "[!] Error:: HTTP Error 404: Not Found\n",
            "[%] Downloading Image #40 from http://www.ecofashiontalk.com/wp-content/uploads/2016/12/ViktorAndRolfF16g.jpg\n",
            "[%] File Downloaded !\n",
            "\n",
            "\n",
            "\n",
            "[%] Done. Downloaded 40 images.\n",
            "\n",
            "===============================================\n",
            "\n",
            "time: 45.6 s\n"
          ],
          "name": "stdout"
        }
      ]
    },
    {
      "cell_type": "code",
      "metadata": {
        "id": "wCinlADp9Z0B",
        "colab": {
          "base_uri": "https://localhost:8080/"
        },
        "outputId": "c877be4e-5641-454f-eaf8-5cd68a2d1d5d"
      },
      "source": [
        "downloader.download(\"Hibiscus\",limit=40,output_dir=\"images\",adult_filter_off=True)"
      ],
      "execution_count": null,
      "outputs": [
        {
          "output_type": "stream",
          "text": [
            "\n",
            "\n",
            "[!!]Indexing page: 1\n",
            "\n",
            "[%] Indexed 20 Images on Page 1.\n",
            "\n",
            "===============================================\n",
            "\n",
            "[%] Downloading Image #1 from http://www.exoticatropicals.com/wp-content/uploads/2012/08/hibiscus-red-lantern-339x460.jpg\n",
            "[%] File Downloaded !\n",
            "\n",
            "[%] Downloading Image #2 from https://cannamethod.com/wp-content/uploads/2015/09/colorado-cannabis-seeds-sunburn450f.jpg\n",
            "[%] File Downloaded !\n",
            "\n",
            "[%] Downloading Image #3 from http://1.bp.blogspot.com/-mEy6RDuJpRs/UP2WICoPdTI/AAAAAAAAB6E/aEroJBLGMQ8/s1600/gargoyle_tattoo_36.jpg\n",
            "[%] File Downloaded !\n",
            "\n",
            "[%] Downloading Image #4 from http://cdn.hometalk.com/media/heu57t6zk1ijoeiyjp1d51226546a7218.jpg?size=1000x1000&amp;nocrop=1\n",
            "[%] File Downloaded !\n",
            "\n",
            "[%] Downloading Image #5 from https://starbuckssecretmenu.net/wp-content/uploads/2013/05/passion-refresher.jpg\n",
            "[%] File Downloaded !\n",
            "\n",
            "[%] Downloading Image #6 from http://cdn.hometalk.com/media/2016/01/01/3145123/diy-projects-to-make-your-rental-home-look-more-expensive-crafts-home-decor-painting.jpg?size=1200x1200&amp;nocrop=1\n",
            "[%] File Downloaded !\n",
            "\n",
            "[%] Downloading Image #7 from https://wallpapersite.com/images/wallpapers/butterfly-1440x900-yellow-flowers-4k-3880.jpg\n",
            "[!] Issue getting: https://wallpapersite.com/images/wallpapers/butterfly-1440x900-yellow-flowers-4k-3880.jpg\n",
            "[!] Error:: HTTP Error 404: Not Found\n",
            "[%] Downloading Image #7 from https://gloarrenaud.files.wordpress.com/2010/06/jellyfish-with-lights.jpg\n",
            "[%] File Downloaded !\n",
            "\n",
            "[%] Downloading Image #8 from http://www.walterreeves.com/wordpress/wp-content/uploads/2010/07/planthopper.jpg\n",
            "[%] File Downloaded !\n",
            "\n",
            "[%] Downloading Image #9 from http://www.digsdigs.com/photos/creative-shower-doors-designs-for-bathrooms-20-554x831.jpg\n",
            "[%] File Downloaded !\n",
            "\n",
            "[%] Downloading Image #10 from https://www.chanceloves.com/wp-content/uploads/2019/06/Hawaii-Chance-Loves-Swimwear-1010512-650x867.jpg\n",
            "[%] File Downloaded !\n",
            "\n",
            "[%] Downloading Image #11 from http://cdn.hometalk.com/media/2014/09/29/1116948/painted-linoleum-bathroom-floor-bathroom-ideas-flooring.jpg?size=1000x1000&amp;nocrop=1\n",
            "[%] File Downloaded !\n",
            "\n",
            "[%] Downloading Image #12 from https://wallpapersite.com/images/wallpapers/tropical-beach-1920x1080-ocean-hawaii-coast-4k-5336.jpg\n",
            "[!] Issue getting: https://wallpapersite.com/images/wallpapers/tropical-beach-1920x1080-ocean-hawaii-coast-4k-5336.jpg\n",
            "[!] Error:: HTTP Error 404: Not Found\n",
            "[%] Downloading Image #12 from https://cdn.awsli.com.br/800x800/163/163535/produto/9059098/dc0699fc6b.jpg\n",
            "[%] File Downloaded !\n",
            "\n",
            "[%] Downloading Image #13 from http://grillpointny.com/e/2017/10/benjamin-moore-classic-gray-abalone-paint-color-gray-owl-oc-52-benjamin-moore-natural-linen-undertones-grey-paint-with-yellow-undertones-balboa-mist-benjamin-moore-revere-pewter-by-benjamin-mo.jpg\n",
            "[%] File Downloaded !\n",
            "\n",
            "[%] Downloading Image #14 from http://cdn.hometalk.com/media/q9y9hf45wwx3leql02ra50f44b7618c20.jpg?size=1200x1200&amp;nocrop=1\n",
            "[%] File Downloaded !\n",
            "\n",
            "[%] Downloading Image #15 from http://www.tokyo-skytree.jp/en/enjoy/yakei/img/know_lighting/p_meika_lavender.jpg\n",
            "[%] File Downloaded !\n",
            "\n",
            "[%] Downloading Image #16 from http://media-3.web.britannica.com/eb-media/13/138913-004-5CDDC221.jpg\n",
            "[%] File Downloaded !\n",
            "\n",
            "[%] Downloading Image #17 from http://davesgarden.com/pics/2010/11/05/Dinu/69f0d5.jpg\n",
            "[%] File Downloaded !\n",
            "\n",
            "[%] Downloading Image #18 from http://cdn.hometalk.com/media/2014/09/29/1116957/painted-linoleum-bathroom-floor-bathroom-ideas-flooring.jpg?size=1000x1000&amp;nocrop=1\n",
            "[%] File Downloaded !\n",
            "\n",
            "\n",
            "\n",
            "[!!]Indexing page: 2\n",
            "\n",
            "[%] Indexed 20 Images on Page 2.\n",
            "\n",
            "===============================================\n",
            "\n",
            "[%] Downloading Image #19 from http://www.exoticatropicals.com/wp-content/uploads/2012/08/hibiscus-red-lantern-339x460.jpg\n",
            "[%] File Downloaded !\n",
            "\n",
            "[%] Downloading Image #20 from https://cannamethod.com/wp-content/uploads/2015/09/colorado-cannabis-seeds-sunburn450f.jpg\n",
            "[%] File Downloaded !\n",
            "\n",
            "[%] Downloading Image #21 from http://1.bp.blogspot.com/-mEy6RDuJpRs/UP2WICoPdTI/AAAAAAAAB6E/aEroJBLGMQ8/s1600/gargoyle_tattoo_36.jpg\n",
            "[%] File Downloaded !\n",
            "\n",
            "[%] Downloading Image #22 from http://cdn.hometalk.com/media/heu57t6zk1ijoeiyjp1d51226546a7218.jpg?size=1000x1000&amp;nocrop=1\n",
            "[%] File Downloaded !\n",
            "\n",
            "[%] Downloading Image #23 from https://starbuckssecretmenu.net/wp-content/uploads/2013/05/passion-refresher.jpg\n",
            "[%] File Downloaded !\n",
            "\n",
            "[%] Downloading Image #24 from http://cdn.hometalk.com/media/2016/01/01/3145123/diy-projects-to-make-your-rental-home-look-more-expensive-crafts-home-decor-painting.jpg?size=1200x1200&amp;nocrop=1\n",
            "[%] File Downloaded !\n",
            "\n",
            "[%] Downloading Image #25 from https://wallpapersite.com/images/wallpapers/butterfly-1440x900-yellow-flowers-4k-3880.jpg\n",
            "[!] Issue getting: https://wallpapersite.com/images/wallpapers/butterfly-1440x900-yellow-flowers-4k-3880.jpg\n",
            "[!] Error:: HTTP Error 404: Not Found\n",
            "[%] Downloading Image #25 from https://gloarrenaud.files.wordpress.com/2010/06/jellyfish-with-lights.jpg\n",
            "[%] File Downloaded !\n",
            "\n",
            "[%] Downloading Image #26 from http://www.walterreeves.com/wordpress/wp-content/uploads/2010/07/planthopper.jpg\n",
            "[%] File Downloaded !\n",
            "\n",
            "[%] Downloading Image #27 from http://www.digsdigs.com/photos/creative-shower-doors-designs-for-bathrooms-20-554x831.jpg\n",
            "[%] File Downloaded !\n",
            "\n",
            "[%] Downloading Image #28 from https://www.chanceloves.com/wp-content/uploads/2019/06/Hawaii-Chance-Loves-Swimwear-1010512-650x867.jpg\n",
            "[%] File Downloaded !\n",
            "\n",
            "[%] Downloading Image #29 from http://cdn.hometalk.com/media/2014/09/29/1116948/painted-linoleum-bathroom-floor-bathroom-ideas-flooring.jpg?size=1000x1000&amp;nocrop=1\n",
            "[%] File Downloaded !\n",
            "\n",
            "[%] Downloading Image #30 from https://wallpapersite.com/images/wallpapers/tropical-beach-1920x1080-ocean-hawaii-coast-4k-5336.jpg\n",
            "[!] Issue getting: https://wallpapersite.com/images/wallpapers/tropical-beach-1920x1080-ocean-hawaii-coast-4k-5336.jpg\n",
            "[!] Error:: HTTP Error 404: Not Found\n",
            "[%] Downloading Image #30 from https://cdn.awsli.com.br/800x800/163/163535/produto/9059098/dc0699fc6b.jpg\n",
            "[%] File Downloaded !\n",
            "\n",
            "[%] Downloading Image #31 from http://grillpointny.com/e/2017/10/benjamin-moore-classic-gray-abalone-paint-color-gray-owl-oc-52-benjamin-moore-natural-linen-undertones-grey-paint-with-yellow-undertones-balboa-mist-benjamin-moore-revere-pewter-by-benjamin-mo.jpg\n",
            "[%] File Downloaded !\n",
            "\n",
            "[%] Downloading Image #32 from http://cdn.hometalk.com/media/q9y9hf45wwx3leql02ra50f44b7618c20.jpg?size=1200x1200&amp;nocrop=1\n",
            "[%] File Downloaded !\n",
            "\n",
            "[%] Downloading Image #33 from http://www.tokyo-skytree.jp/en/enjoy/yakei/img/know_lighting/p_meika_lavender.jpg\n",
            "[%] File Downloaded !\n",
            "\n",
            "[%] Downloading Image #34 from http://media-3.web.britannica.com/eb-media/13/138913-004-5CDDC221.jpg\n",
            "[%] File Downloaded !\n",
            "\n",
            "[%] Downloading Image #35 from http://davesgarden.com/pics/2010/11/05/Dinu/69f0d5.jpg\n",
            "[%] File Downloaded !\n",
            "\n",
            "[%] Downloading Image #36 from http://cdn.hometalk.com/media/2014/09/29/1116957/painted-linoleum-bathroom-floor-bathroom-ideas-flooring.jpg?size=1000x1000&amp;nocrop=1\n",
            "[%] File Downloaded !\n",
            "\n",
            "\n",
            "\n",
            "[!!]Indexing page: 3\n",
            "\n",
            "[%] Indexed 19 Images on Page 3.\n",
            "\n",
            "===============================================\n",
            "\n",
            "[%] Downloading Image #37 from https://starbuckssecretmenu.net/wp-content/uploads/2013/05/passion-refresher.jpg\n",
            "[%] File Downloaded !\n",
            "\n",
            "[%] Downloading Image #38 from http://cdn.hometalk.com/media/2016/01/01/3145123/diy-projects-to-make-your-rental-home-look-more-expensive-crafts-home-decor-painting.jpg?size=1200x1200&amp;nocrop=1\n",
            "[%] File Downloaded !\n",
            "\n",
            "[%] Downloading Image #39 from http://cdn.hometalk.com/media/q9y9hf45wwx3leql02ra50f44b7618c20.jpg?size=1200x1200&amp;nocrop=1\n",
            "[%] File Downloaded !\n",
            "\n",
            "[%] Downloading Image #40 from http://www.walterreeves.com/wordpress/wp-content/uploads/2010/07/planthopper.jpg\n",
            "[%] File Downloaded !\n",
            "\n",
            "\n",
            "\n",
            "[%] Done. Downloaded 40 images.\n",
            "\n",
            "===============================================\n",
            "\n",
            "time: 38.6 s\n"
          ],
          "name": "stdout"
        }
      ]
    },
    {
      "cell_type": "code",
      "metadata": {
        "colab": {
          "base_uri": "https://localhost:8080/"
        },
        "id": "ugnm9qwxYwVv",
        "outputId": "da06c060-c5e6-4ac7-b18b-2a6e6ec90bb4"
      },
      "source": [
        "downloader.download(\"Cars\",limit=40,output_dir=\"images\",adult_filter_off=True)"
      ],
      "execution_count": null,
      "outputs": [
        {
          "output_type": "stream",
          "text": [
            "\n",
            "\n",
            "[!!]Indexing page: 1\n",
            "\n",
            "[%] Indexed 18 Images on Page 1.\n",
            "\n",
            "===============================================\n",
            "\n",
            "[%] Downloading Image #1 from http://www.hdwallpapers.in/walls/mitsubishi_concept-wide.jpg\n",
            "[!] Issue getting: http://www.hdwallpapers.in/walls/mitsubishi_concept-wide.jpg\n",
            "[!] Error:: HTTP Error 404: Not Found\n",
            "[%] Downloading Image #1 from http://i1.ytimg.com/vi/kahl03qOuH8/maxresdefault.jpg\n",
            "[%] File Downloaded !\n",
            "\n",
            "[%] Downloading Image #2 from http://2.bp.blogspot.com/-v0-FLshR0QY/TlDRNu78c7I/AAAAAAAAAXI/-49c9nF4xgc/s1600/Zenvo+ST1+High+Performence+Super+Cars1.jpg\n",
            "[%] File Downloaded !\n",
            "\n",
            "[%] Downloading Image #3 from http://www.turkcealtyazi.org/images/poster/1216475.jpg\n",
            "[%] File Downloaded !\n",
            "\n",
            "[%] Downloading Image #4 from http://www.pickchur.com/wp-content/uploads/2009/12/gold-car.jpg\n",
            "[%] File Downloaded !\n",
            "\n",
            "[%] Downloading Image #5 from http://4.bp.blogspot.com/-nSbTEb1DHwc/TivSxGht-AI/AAAAAAAAAFo/AjBJslpG3yg/s1600/3d-lightening-mcqueen-cars-2-printable-photo-420x420-fs-9652.jpg\n",
            "[%] File Downloaded !\n",
            "\n",
            "[%] Downloading Image #6 from http://3.bp.blogspot.com/_gTJMEP-c2fo/SOUpJTaSFWI/AAAAAAAAGWQ/kEawz8ghf3g/s400/cool+police+car+8.jpg\n",
            "[%] File Downloaded !\n",
            "\n",
            "[%] Downloading Image #7 from http://www.thefrogandtheprincess.com/Images/bm_cars-movie_DMM2517_minimural_2.jpg\n",
            "[%] File Downloaded !\n",
            "\n",
            "[%] Downloading Image #8 from http://www.kiwidragracing.com/multimedia/cars_with_babes/babe03.jpg\n",
            "[%] File Downloaded !\n",
            "\n",
            "[%] Downloading Image #9 from http://img.xcitefun.net/users/2008/06/4057,xcitefun-6111.jpg\n",
            "[%] File Downloaded !\n",
            "\n",
            "[%] Downloading Image #10 from http://1.bp.blogspot.com/-XTD_BhaMB1o/Tam2ywd6iRI/AAAAAAAESJU/KcrX0J4hXWo/s1600/Audi-A8-Interior.jpg\n",
            "[!] Issue getting: http://1.bp.blogspot.com/-XTD_BhaMB1o/Tam2ywd6iRI/AAAAAAAESJU/KcrX0J4hXWo/s1600/Audi-A8-Interior.jpg\n",
            "[!] Error:: HTTP Error 404: Not Found\n",
            "[%] Downloading Image #10 from http://www.destination360.com/contents/pictures/disneyland/cars-land-rides.jpg\n",
            "[%] File Downloaded !\n",
            "\n",
            "[%] Downloading Image #11 from http://imgs.abduzeedo.com/files/articles/awesome-photoshop-custom-cars-richard-andersen/Nissan_2011_by_RJ_Andersen.jpg\n",
            "[%] File Downloaded !\n",
            "\n",
            "[%] Downloading Image #12 from http://www.dieselstation.com/wallpapers/albums/Ferrari/Laferrai2014/Ferrari-LaFerrari-2014-03.jpg\n",
            "[%] File Downloaded !\n",
            "\n",
            "[%] Downloading Image #13 from http://pics.imcdb.org/5931/PDVD_594.1.jpg\n",
            "[%] File Downloaded !\n",
            "\n",
            "[%] Downloading Image #14 from http://www.musclecarbabes.com/ford_babes_0008.jpg\n",
            "[%] File Downloaded !\n",
            "\n",
            "[%] Downloading Image #15 from http://www.littlebcakes.com/wp-content/uploads/2014/01/Cars-Birthday-Cakes.jpg\n",
            "[%] File Downloaded !\n",
            "\n",
            "[%] Downloading Image #16 from http://www.007james.com/i/articles/top_10_cars/james_bond_cars.jpg\n",
            "[%] File Downloaded !\n",
            "\n",
            "\n",
            "\n",
            "[!!]Indexing page: 2\n",
            "\n",
            "[%] Indexed 18 Images on Page 2.\n",
            "\n",
            "===============================================\n",
            "\n",
            "[%] Downloading Image #17 from http://www.hdwallpapers.in/walls/mitsubishi_concept-wide.jpg\n",
            "[!] Issue getting: http://www.hdwallpapers.in/walls/mitsubishi_concept-wide.jpg\n",
            "[!] Error:: HTTP Error 404: Not Found\n",
            "[%] Downloading Image #17 from http://i1.ytimg.com/vi/kahl03qOuH8/maxresdefault.jpg\n",
            "[%] File Downloaded !\n",
            "\n",
            "[%] Downloading Image #18 from http://2.bp.blogspot.com/-v0-FLshR0QY/TlDRNu78c7I/AAAAAAAAAXI/-49c9nF4xgc/s1600/Zenvo+ST1+High+Performence+Super+Cars1.jpg\n",
            "[%] File Downloaded !\n",
            "\n",
            "[%] Downloading Image #19 from http://www.turkcealtyazi.org/images/poster/1216475.jpg\n",
            "[%] File Downloaded !\n",
            "\n",
            "[%] Downloading Image #20 from http://www.pickchur.com/wp-content/uploads/2009/12/gold-car.jpg\n",
            "[%] File Downloaded !\n",
            "\n",
            "[%] Downloading Image #21 from http://4.bp.blogspot.com/-nSbTEb1DHwc/TivSxGht-AI/AAAAAAAAAFo/AjBJslpG3yg/s1600/3d-lightening-mcqueen-cars-2-printable-photo-420x420-fs-9652.jpg\n",
            "[%] File Downloaded !\n",
            "\n",
            "[%] Downloading Image #22 from http://3.bp.blogspot.com/_gTJMEP-c2fo/SOUpJTaSFWI/AAAAAAAAGWQ/kEawz8ghf3g/s400/cool+police+car+8.jpg\n",
            "[%] File Downloaded !\n",
            "\n",
            "[%] Downloading Image #23 from http://www.thefrogandtheprincess.com/Images/bm_cars-movie_DMM2517_minimural_2.jpg\n",
            "[%] File Downloaded !\n",
            "\n",
            "[%] Downloading Image #24 from http://www.kiwidragracing.com/multimedia/cars_with_babes/babe03.jpg\n",
            "[%] File Downloaded !\n",
            "\n",
            "[%] Downloading Image #25 from http://img.xcitefun.net/users/2008/06/4057,xcitefun-6111.jpg\n",
            "[%] File Downloaded !\n",
            "\n",
            "[%] Downloading Image #26 from http://1.bp.blogspot.com/-XTD_BhaMB1o/Tam2ywd6iRI/AAAAAAAESJU/KcrX0J4hXWo/s1600/Audi-A8-Interior.jpg\n",
            "[!] Issue getting: http://1.bp.blogspot.com/-XTD_BhaMB1o/Tam2ywd6iRI/AAAAAAAESJU/KcrX0J4hXWo/s1600/Audi-A8-Interior.jpg\n",
            "[!] Error:: HTTP Error 404: Not Found\n",
            "[%] Downloading Image #26 from http://www.destination360.com/contents/pictures/disneyland/cars-land-rides.jpg\n",
            "[%] File Downloaded !\n",
            "\n",
            "[%] Downloading Image #27 from http://imgs.abduzeedo.com/files/articles/awesome-photoshop-custom-cars-richard-andersen/Nissan_2011_by_RJ_Andersen.jpg\n",
            "[%] File Downloaded !\n",
            "\n",
            "[%] Downloading Image #28 from http://www.dieselstation.com/wallpapers/albums/Ferrari/Laferrai2014/Ferrari-LaFerrari-2014-03.jpg\n",
            "[%] File Downloaded !\n",
            "\n",
            "[%] Downloading Image #29 from http://pics.imcdb.org/5931/PDVD_594.1.jpg\n",
            "[%] File Downloaded !\n",
            "\n",
            "[%] Downloading Image #30 from http://www.musclecarbabes.com/ford_babes_0008.jpg\n",
            "[%] File Downloaded !\n",
            "\n",
            "[%] Downloading Image #31 from http://www.littlebcakes.com/wp-content/uploads/2014/01/Cars-Birthday-Cakes.jpg\n",
            "[%] File Downloaded !\n",
            "\n",
            "[%] Downloading Image #32 from http://www.007james.com/i/articles/top_10_cars/james_bond_cars.jpg\n",
            "[%] File Downloaded !\n",
            "\n",
            "\n",
            "\n",
            "[!!]Indexing page: 3\n",
            "\n",
            "[%] Indexed 17 Images on Page 3.\n",
            "\n",
            "===============================================\n",
            "\n",
            "[%] Downloading Image #33 from http://i1.ytimg.com/vi/kahl03qOuH8/maxresdefault.jpg\n",
            "[%] File Downloaded !\n",
            "\n",
            "[%] Downloading Image #34 from http://2.bp.blogspot.com/-v0-FLshR0QY/TlDRNu78c7I/AAAAAAAAAXI/-49c9nF4xgc/s1600/Zenvo+ST1+High+Performence+Super+Cars1.jpg\n",
            "[%] File Downloaded !\n",
            "\n",
            "[%] Downloading Image #35 from http://www.turkcealtyazi.org/images/poster/1216475.jpg\n",
            "[%] File Downloaded !\n",
            "\n",
            "[%] Downloading Image #36 from http://www.pickchur.com/wp-content/uploads/2009/12/gold-car.jpg\n",
            "[%] File Downloaded !\n",
            "\n",
            "[%] Downloading Image #37 from http://4.bp.blogspot.com/-nSbTEb1DHwc/TivSxGht-AI/AAAAAAAAAFo/AjBJslpG3yg/s1600/3d-lightening-mcqueen-cars-2-printable-photo-420x420-fs-9652.jpg\n",
            "[%] File Downloaded !\n",
            "\n",
            "[%] Downloading Image #38 from http://3.bp.blogspot.com/_gTJMEP-c2fo/SOUpJTaSFWI/AAAAAAAAGWQ/kEawz8ghf3g/s400/cool+police+car+8.jpg\n",
            "[%] File Downloaded !\n",
            "\n",
            "[%] Downloading Image #39 from http://www.thefrogandtheprincess.com/Images/bm_cars-movie_DMM2517_minimural_2.jpg\n",
            "[%] File Downloaded !\n",
            "\n",
            "[%] Downloading Image #40 from http://www.kiwidragracing.com/multimedia/cars_with_babes/babe03.jpg\n",
            "[%] File Downloaded !\n",
            "\n",
            "\n",
            "\n",
            "[%] Done. Downloaded 40 images.\n",
            "\n",
            "===============================================\n",
            "\n",
            "time: 50.5 s\n"
          ],
          "name": "stdout"
        }
      ]
    },
    {
      "cell_type": "code",
      "metadata": {
        "id": "49Mn3EnX_4wK",
        "colab": {
          "base_uri": "https://localhost:8080/"
        },
        "outputId": "23ec9ecb-bf39-42e3-a933-f8af7755c07b"
      },
      "source": [
        "#Preprocessing(resizing and flattening)"
      ],
      "execution_count": null,
      "outputs": [
        {
          "output_type": "stream",
          "text": [
            "time: 585 µs\n"
          ],
          "name": "stdout"
        }
      ]
    },
    {
      "cell_type": "code",
      "metadata": {
        "colab": {
          "base_uri": "https://localhost:8080/"
        },
        "id": "oLIzdexGCkw8",
        "outputId": "d7b0e91a-212b-4c52-c1e4-14366e244f9f"
      },
      "source": [
        "#converting a 2-d(matrix) image to vector (or 1 dimension) hence we flatten the data"
      ],
      "execution_count": null,
      "outputs": [
        {
          "output_type": "stream",
          "text": [
            "time: 563 µs\n"
          ],
          "name": "stdout"
        }
      ]
    },
    {
      "cell_type": "code",
      "metadata": {
        "colab": {
          "base_uri": "https://localhost:8080/"
        },
        "id": "TzWwv40UCZ3H",
        "outputId": "cb081ce0-f5db-4300-88c4-0c647194fbf1"
      },
      "source": [
        "import os\n",
        "import matplotlib.pyplot as plt\n",
        "import numpy as np\n",
        "#we use scikit image here can use open cv also\n",
        "from skimage.io import imread\n",
        "from skimage.transform import resize"
      ],
      "execution_count": null,
      "outputs": [
        {
          "output_type": "stream",
          "text": [
            "time: 893 ms\n"
          ],
          "name": "stdout"
        }
      ]
    },
    {
      "cell_type": "code",
      "metadata": {
        "colab": {
          "base_uri": "https://localhost:8080/"
        },
        "id": "xpblfonqD5A3",
        "outputId": "8dfa447a-911a-42b1-da3f-dbb5f7acbe6e"
      },
      "source": [
        "target=[]\n",
        "images=[]\n",
        "flat_data=[]\n",
        "DATADIR=\"/content/images\"\n",
        "CATEGORIES=[\"Wolf\",\"Hibiscus\",\"Rugby Ball\",\"Cars\"]\n",
        "for category in CATEGORIES:\n",
        "  class_num=CATEGORIES.index(category) #Label Encoding the values\n",
        "  path=os.path.join(DATADIR,category) #Creating path to use all images\n",
        "  for img in os.listdir(path):\n",
        "    img_array=imread(os.path.join(path,img))\n",
        "    #print(img_array)\n",
        "    #plt.imshow(img_array)\n",
        "    img_resized=resize(img_array,(150,150,3)) #normalises from 0-1\n",
        "    flat_data.append(img_resized.flatten())\n",
        "    images.append(img_resized)\n",
        "    target.append(class_num)\n",
        "flat_data=np.array(flat_data)\n",
        "target  =np.array(target)\n",
        "images=np.array(images)  "
      ],
      "execution_count": null,
      "outputs": [
        {
          "output_type": "stream",
          "text": [
            "time: 53.8 s\n"
          ],
          "name": "stdout"
        }
      ]
    },
    {
      "cell_type": "code",
      "metadata": {
        "colab": {
          "base_uri": "https://localhost:8080/"
        },
        "id": "mPUZQFdoEczV",
        "outputId": "cba13f80-aabc-44d7-cd9b-607fa18194b0"
      },
      "source": [
        "flat_data[0]"
      ],
      "execution_count": null,
      "outputs": [
        {
          "output_type": "execute_result",
          "data": {
            "text/plain": [
              "array([0.30915033, 0.29346405, 0.28169935, ..., 0.8503268 , 0.86666667,\n",
              "       0.88562092])"
            ]
          },
          "metadata": {
            "tags": []
          },
          "execution_count": 14
        },
        {
          "output_type": "stream",
          "text": [
            "time: 3.4 ms\n"
          ],
          "name": "stdout"
        }
      ]
    },
    {
      "cell_type": "code",
      "metadata": {
        "colab": {
          "base_uri": "https://localhost:8080/",
          "height": 298
        },
        "id": "7YakiF6aT5wt",
        "outputId": "28130695-699d-4ff1-c361-d2f94acf2cdb"
      },
      "source": [
        "unique,count=np.unique (target,return_counts=True)\n",
        "plt.bar(CATEGORIES,count)"
      ],
      "execution_count": null,
      "outputs": [
        {
          "output_type": "execute_result",
          "data": {
            "text/plain": [
              "<BarContainer object of 4 artists>"
            ]
          },
          "metadata": {
            "tags": []
          },
          "execution_count": 15
        },
        {
          "output_type": "display_data",
          "data": {
            "image/png": "[encoded data removed]",
            "text/plain": [
              "<Figure size 432x288 with 1 Axes>"
            ]
          },
          "metadata": {
            "tags": [],
            "needs_background": "light"
          }
        },
        {
          "output_type": "stream",
          "text": [
            "time: 177 ms\n"
          ],
          "name": "stdout"
        }
      ]
    },
    {
      "cell_type": "code",
      "metadata": {
        "id": "QTsqf6AZUvbg",
        "colab": {
          "base_uri": "https://localhost:8080/"
        },
        "outputId": "e2c41c09-1ec6-41c7-f29b-9f372a376d52"
      },
      "source": [
        "from sklearn.model_selection import train_test_split\n",
        "x_train,x_test,y_train,y_test=train_test_split(flat_data,target,test_size=0.3,random_state=109)"
      ],
      "execution_count": null,
      "outputs": [
        {
          "output_type": "stream",
          "text": [
            "time: 279 ms\n"
          ],
          "name": "stdout"
        }
      ]
    },
    {
      "cell_type": "code",
      "metadata": {
        "colab": {
          "base_uri": "https://localhost:8080/"
        },
        "id": "WQnr4b-nA1QN",
        "outputId": "7b024182-6be7-4775-df07-5cc6483772ce"
      },
      "source": [
        "x_train.shape"
      ],
      "execution_count": null,
      "outputs": [
        {
          "output_type": "execute_result",
          "data": {
            "text/plain": [
              "(112, 67500)"
            ]
          },
          "metadata": {
            "tags": []
          },
          "execution_count": 17
        },
        {
          "output_type": "stream",
          "text": [
            "time: 12.6 ms\n"
          ],
          "name": "stdout"
        }
      ]
    },
    {
      "cell_type": "code",
      "metadata": {
        "colab": {
          "base_uri": "https://localhost:8080/"
        },
        "id": "2o63PbeNA6AQ",
        "outputId": "c0a5c276-f025-4fd7-d106-a6ff8266b0bc"
      },
      "source": [
        "y_train.shape"
      ],
      "execution_count": null,
      "outputs": [
        {
          "output_type": "execute_result",
          "data": {
            "text/plain": [
              "(112,)"
            ]
          },
          "metadata": {
            "tags": []
          },
          "execution_count": 18
        },
        {
          "output_type": "stream",
          "text": [
            "time: 3.22 ms\n"
          ],
          "name": "stdout"
        }
      ]
    },
    {
      "cell_type": "code",
      "metadata": {
        "colab": {
          "base_uri": "https://localhost:8080/"
        },
        "id": "ks-atlWuvkWO",
        "outputId": "ce77ca76-be52-4afb-9219-9e5a0cd9f693"
      },
      "source": [
        "#CREATING A MODEL"
      ],
      "execution_count": null,
      "outputs": [
        {
          "output_type": "stream",
          "text": [
            "time: 876 µs\n"
          ],
          "name": "stdout"
        }
      ]
    },
    {
      "cell_type": "code",
      "metadata": {
        "colab": {
          "base_uri": "https://localhost:8080/"
        },
        "id": "LEoVHN8v1x5l",
        "outputId": "655d2c75-67c4-426f-c08d-5f23c4386bbd"
      },
      "source": [
        "from sklearn.model_selection import GridSearchCV\n",
        "from sklearn import svm\n",
        "param_grid=[{\"C\":[1,10,100,1000],\"kernel\":[\"linear\"]},\n",
        "            {\"C\":[1,10,100,1000],\"gamma\":[0.001,0.0001],\"kernel\":[\"rbf\"]}]\n",
        "svc=svm.SVC(probability=True)\n",
        "clf=GridSearchCV(svc,param_grid)\n"
      ],
      "execution_count": null,
      "outputs": [
        {
          "output_type": "stream",
          "text": [
            "time: 106 ms\n"
          ],
          "name": "stdout"
        }
      ]
    },
    {
      "cell_type": "code",
      "metadata": {
        "colab": {
          "base_uri": "https://localhost:8080/"
        },
        "id": "csJFs-Nf9ah-",
        "outputId": "5bb289c7-c3bb-4d40-e317-34c526604052"
      },
      "source": [
        "clf.fit(x_train,y_train)"
      ],
      "execution_count": null,
      "outputs": [
        {
          "output_type": "execute_result",
          "data": {
            "text/plain": [
              "GridSearchCV(cv=None, error_score=nan,\n",
              "             estimator=SVC(C=1.0, break_ties=False, cache_size=200,\n",
              "                           class_weight=None, coef0=0.0,\n",
              "                           decision_function_shape='ovr', degree=3,\n",
              "                           gamma='scale', kernel='rbf', max_iter=-1,\n",
              "                           probability=True, random_state=None, shrinking=True,\n",
              "                           tol=0.001, verbose=False),\n",
              "             iid='deprecated', n_jobs=None,\n",
              "             param_grid=[{'C': [1, 10, 100, 1000], 'kernel': ['linear']},\n",
              "                         {'C': [1, 10, 100, 1000], 'gamma': [0.001, 0.0001],\n",
              "                          'kernel': ['rbf']}],\n",
              "             pre_dispatch='2*n_jobs', refit=True, return_train_score=False,\n",
              "             scoring=None, verbose=0)"
            ]
          },
          "metadata": {
            "tags": []
          },
          "execution_count": 21
        },
        {
          "output_type": "stream",
          "text": [
            "time: 5min 9s\n"
          ],
          "name": "stdout"
        }
      ]
    },
    {
      "cell_type": "code",
      "metadata": {
        "colab": {
          "base_uri": "https://localhost:8080/"
        },
        "id": "bHoGQSicDYaw",
        "outputId": "84265192-e5ae-45f0-878d-89cab67d00b5"
      },
      "source": [
        "y_pred=clf.predict(x_test)\n",
        "y_pred"
      ],
      "execution_count": null,
      "outputs": [
        {
          "output_type": "execute_result",
          "data": {
            "text/plain": [
              "array([3, 0, 1, 0, 2, 0, 0, 0, 3, 1, 1, 3, 1, 3, 0, 1, 3, 2, 1, 0, 3, 0,\n",
              "       0, 0, 3, 0, 2, 2, 0, 1, 3, 3, 0, 3, 3, 3, 0, 2, 2, 1, 1, 3, 2, 1,\n",
              "       3, 1, 1, 2])"
            ]
          },
          "metadata": {
            "tags": []
          },
          "execution_count": 22
        },
        {
          "output_type": "stream",
          "text": [
            "time: 317 ms\n"
          ],
          "name": "stdout"
        }
      ]
    },
    {
      "cell_type": "code",
      "metadata": {
        "colab": {
          "base_uri": "https://localhost:8080/"
        },
        "id": "JArDepDPDpHC",
        "outputId": "81afc466-7097-49f9-f4b8-cc227e6b5437"
      },
      "source": [
        "y_test"
      ],
      "execution_count": null,
      "outputs": [
        {
          "output_type": "execute_result",
          "data": {
            "text/plain": [
              "array([3, 0, 2, 0, 2, 0, 0, 1, 3, 1, 1, 3, 1, 3, 0, 1, 3, 2, 2, 1, 3, 0,\n",
              "       0, 0, 3, 0, 2, 2, 0, 2, 3, 3, 0, 3, 3, 3, 0, 2, 2, 1, 1, 3, 2, 1,\n",
              "       3, 2, 1, 2])"
            ]
          },
          "metadata": {
            "tags": []
          },
          "execution_count": 23
        },
        {
          "output_type": "stream",
          "text": [
            "time: 3.38 ms\n"
          ],
          "name": "stdout"
        }
      ]
    },
    {
      "cell_type": "code",
      "metadata": {
        "colab": {
          "base_uri": "https://localhost:8080/"
        },
        "id": "0eHs00RyCj0C",
        "outputId": "3855b148-ef6e-4716-fbb2-1859a79feb7f"
      },
      "source": [
        "from sklearn.metrics import accuracy_score,confusion_matrix"
      ],
      "execution_count": null,
      "outputs": [
        {
          "output_type": "stream",
          "text": [
            "time: 1.42 ms\n"
          ],
          "name": "stdout"
        }
      ]
    },
    {
      "cell_type": "code",
      "metadata": {
        "colab": {
          "base_uri": "https://localhost:8080/"
        },
        "id": "QiQGZwF8DBDu",
        "outputId": "672dc583-7e84-434a-b6dd-591a2a420f18"
      },
      "source": [
        "accuracy_score(y_pred,y_test)"
      ],
      "execution_count": null,
      "outputs": [
        {
          "output_type": "execute_result",
          "data": {
            "text/plain": [
              "0.875"
            ]
          },
          "metadata": {
            "tags": []
          },
          "execution_count": 25
        },
        {
          "output_type": "stream",
          "text": [
            "time: 4.18 ms\n"
          ],
          "name": "stdout"
        }
      ]
    },
    {
      "cell_type": "code",
      "metadata": {
        "colab": {
          "base_uri": "https://localhost:8080/"
        },
        "id": "X3ObUZH1FKxo",
        "outputId": "c49616f4-b66f-48c5-8f18-4cb9d4c30377"
      },
      "source": [
        "confusion_matrix(y_pred,y_test)"
      ],
      "execution_count": null,
      "outputs": [
        {
          "output_type": "execute_result",
          "data": {
            "text/plain": [
              "array([[12,  2,  0,  0],\n",
              "       [ 0,  8,  4,  0],\n",
              "       [ 0,  0,  8,  0],\n",
              "       [ 0,  0,  0, 14]])"
            ]
          },
          "metadata": {
            "tags": []
          },
          "execution_count": 26
        },
        {
          "output_type": "stream",
          "text": [
            "time: 4.31 ms\n"
          ],
          "name": "stdout"
        }
      ]
    },
    {
      "cell_type": "code",
      "metadata": {
        "colab": {
          "base_uri": "https://localhost:8080/"
        },
        "id": "zVKRGIEfFXvq",
        "outputId": "b501d723-9034-49de-dbdd-3d32d45e445e"
      },
      "source": [
        "#Save the model using Picke library\n",
        "import pickle\n",
        "pickle.dump(clf,open(\"img_model.p\",\"wb\"))"
      ],
      "execution_count": null,
      "outputs": [
        {
          "output_type": "stream",
          "text": [
            "time: 59 ms\n"
          ],
          "name": "stdout"
        }
      ]
    },
    {
      "cell_type": "code",
      "metadata": {
        "colab": {
          "base_uri": "https://localhost:8080/"
        },
        "id": "S4nU0CD5F7jr",
        "outputId": "f92ff0e9-2d92-4d99-ed89-13625d986247"
      },
      "source": [
        "model=pickle.load(open(\"img_model.p\",\"rb\"))"
      ],
      "execution_count": null,
      "outputs": [
        {
          "output_type": "stream",
          "text": [
            "time: 22.3 ms\n"
          ],
          "name": "stdout"
        }
      ]
    },
    {
      "cell_type": "code",
      "metadata": {
        "colab": {
          "base_uri": "https://localhost:8080/",
          "height": 356
        },
        "id": "60h8USxTGcRN",
        "outputId": "b42ec6f2-d2b9-44ec-e92d-fcf953e6f90a"
      },
      "source": [
        "#Testing a brand new image\n",
        "flat_data=[]\n",
        "url=input(\"Enter your URL\")\n",
        "img=imread(url)\n",
        "img_resized=resize(img,(150,150,3))\n",
        "flat_data.append(img_resized.flatten())\n",
        "flat_data=np.array(flat_data)\n",
        "print(img.shape)\n",
        "plt.imshow(img_resized)\n",
        "y_out=model.predict(flat_data)\n",
        "y_out=CATEGORIES[y_out[0]]\n",
        "print(f'PREDICTED OUTPUT:{y_out}')"
      ],
      "execution_count": null,
      "outputs": [
        {
          "output_type": "stream",
          "text": [
            "Enter your URLhttps://th.bing.com/th/id/OIP.SNHbICfeYfWTuGS-qfWtqAHaLH?w=116&h=180&c=7&o=5&dpr=1.25&pid=1.7\n",
            "(225, 145, 3)\n",
            "PREDICTED OUTPUT:Hibiscus\n"
          ],
          "name": "stdout"
        },
        {
          "output_type": "display_data",
          "data": {
            "image/png": "[encoded data removed]",
            "text/plain": [
              "<Figure size 432x288 with 1 Axes>"
            ]
          },
          "metadata": {
            "tags": [],
            "needs_background": "light"
          }
        },
        {
          "output_type": "stream",
          "text": [
            "time: 4.04 s\n"
          ],
          "name": "stdout"
        }
      ]
    },
    {
      "cell_type": "code",
      "metadata": {
        "colab": {
          "base_uri": "https://localhost:8080/",
          "height": 1000
        },
        "id": "JyIHCYr-3m0G",
        "outputId": "6843c360-1745-4487-e0b8-09fb8ff2b573"
      },
      "source": [
        "!pip install streamlit\n",
        "! pip install pyngrok\n",
        "from pyngrok import ngrok"
      ],
      "execution_count": null,
      "outputs": [
        {
          "output_type": "stream",
          "text": [
            "Collecting streamlit\n",
            "\u001b[?25l  Downloading https://files.pythonhosted.org/packages/f9/91/5b62c39a4e382e1c376405e73891c4426af576f507281bc2bb896ac1d028/streamlit-0.71.0-py2.py3-none-any.whl (7.4MB)\n",
            "\u001b[K     |████████████████████████████████| 7.4MB 5.2MB/s \n",
            "\u001b[?25hCollecting watchdog\n",
            "\u001b[?25l  Downloading https://files.pythonhosted.org/packages/0e/06/121302598a4fc01aca942d937f4a2c33430b7181137b35758913a8db10ad/watchdog-0.10.3.tar.gz (94kB)\n",
            "\u001b[K     |████████████████████████████████| 102kB 10.4MB/s \n",
            "\u001b[?25hRequirement already satisfied: pillow>=6.2.0 in /usr/local/lib/python3.6/dist-packages (from streamlit) (7.0.0)\n",
            "Requirement already satisfied: pyarrow in /usr/local/lib/python3.6/dist-packages (from streamlit) (0.14.1)\n",
            "Requirement already satisfied: requests in /usr/local/lib/python3.6/dist-packages (from streamlit) (2.23.0)\n",
            "Collecting enum-compat\n",
            "  Downloading https://files.pythonhosted.org/packages/55/ae/467bc4509246283bb59746e21a1a2f5a8aecbef56b1fa6eaca78cd438c8b/enum_compat-0.0.3-py3-none-any.whl\n",
            "Requirement already satisfied: tzlocal in /usr/local/lib/python3.6/dist-packages (from streamlit) (1.5.1)\n",
            "Requirement already satisfied: packaging in /usr/local/lib/python3.6/dist-packages (from streamlit) (20.4)\n",
            "Collecting base58\n",
            "  Downloading https://files.pythonhosted.org/packages/3c/03/58572025c77b9e6027155b272a1b96298e711cd4f95c24967f7137ab0c4b/base58-2.0.1-py3-none-any.whl\n",
            "Collecting botocore>=1.13.44\n",
            "\u001b[?25l  Downloading https://files.pythonhosted.org/packages/77/49/c8c99477416fdebb59078bda624acc5b3c7008f891c60d56d6ff1570d83e/botocore-1.19.23-py2.py3-none-any.whl (6.8MB)\n",
            "\u001b[K     |████████████████████████████████| 6.9MB 38.2MB/s \n",
            "\u001b[?25hCollecting pydeck>=0.1.dev5\n",
            "\u001b[?25l  Downloading https://files.pythonhosted.org/packages/9e/9d/8fbf1f56cc5891e6c3295bf94fc176e9ab0a3ffdd090cc8b354ac2640f9a/pydeck-0.5.0-py2.py3-none-any.whl (4.5MB)\n",
            "\u001b[K     |████████████████████████████████| 4.5MB 39.8MB/s \n",
            "\u001b[?25hRequirement already satisfied: pandas>=0.21.0 in /usr/local/lib/python3.6/dist-packages (from streamlit) (1.1.4)\n",
            "Requirement already satisfied: protobuf!=3.11,>=3.6.0 in /usr/local/lib/python3.6/dist-packages (from streamlit) (3.12.4)\n",
            "Requirement already satisfied: toml in /usr/local/lib/python3.6/dist-packages (from streamlit) (0.10.2)\n",
            "Requirement already satisfied: python-dateutil in /usr/local/lib/python3.6/dist-packages (from streamlit) (2.8.1)\n",
            "Requirement already satisfied: tornado>=5.0 in /usr/local/lib/python3.6/dist-packages (from streamlit) (5.1.1)\n",
            "Requirement already satisfied: numpy in /usr/local/lib/python3.6/dist-packages (from streamlit) (1.18.5)\n",
            "Collecting boto3\n",
            "\u001b[?25l  Downloading https://files.pythonhosted.org/packages/4e/31/4d4861a90d66c287a348fd17eaefefcdc2e859951cab9884b555923f046d/boto3-1.16.23-py2.py3-none-any.whl (129kB)\n",
            "\u001b[K     |████████████████████████████████| 133kB 49.3MB/s \n",
            "\u001b[?25hRequirement already satisfied: cachetools>=4.0 in /usr/local/lib/python3.6/dist-packages (from streamlit) (4.1.1)\n",
            "Requirement already satisfied: altair>=3.2.0 in /usr/local/lib/python3.6/dist-packages (from streamlit) (4.1.0)\n",
            "Collecting gitpython\n",
            "\u001b[?25l  Downloading https://files.pythonhosted.org/packages/24/d1/a7f8fe3df258549b303415157328bfcc63e9b11d06a7ad7a3327f3d32606/GitPython-3.1.11-py3-none-any.whl (159kB)\n",
            "\u001b[K     |████████████████████████████████| 163kB 46.1MB/s \n",
            "\u001b[?25hRequirement already satisfied: astor in /usr/local/lib/python3.6/dist-packages (from streamlit) (0.8.1)\n",
            "Collecting validators\n",
            "  Downloading https://files.pythonhosted.org/packages/41/4a/3360ff3cf2b4a1b9721ac1fbff5f84663f41047d9874b3aa1ac82e862c44/validators-0.18.1-py3-none-any.whl\n",
            "Requirement already satisfied: click>=7.0 in /usr/local/lib/python3.6/dist-packages (from streamlit) (7.1.2)\n",
            "Collecting blinker\n",
            "\u001b[?25l  Downloading https://files.pythonhosted.org/packages/1b/51/e2a9f3b757eb802f61dc1f2b09c8c99f6eb01cf06416c0671253536517b6/blinker-1.4.tar.gz (111kB)\n",
            "\u001b[K     |████████████████████████████████| 112kB 51.9MB/s \n",
            "\u001b[?25hCollecting pathtools>=0.1.1\n",
            "  Downloading https://files.pythonhosted.org/packages/e7/7f/470d6fcdf23f9f3518f6b0b76be9df16dcc8630ad409947f8be2eb0ed13a/pathtools-0.1.2.tar.gz\n",
            "Requirement already satisfied: six>=1.0.0 in /usr/local/lib/python3.6/dist-packages (from pyarrow->streamlit) (1.15.0)\n",
            "Requirement already satisfied: certifi>=2017.4.17 in /usr/local/lib/python3.6/dist-packages (from requests->streamlit) (2020.6.20)\n",
            "Requirement already satisfied: chardet<4,>=3.0.2 in /usr/local/lib/python3.6/dist-packages (from requests->streamlit) (3.0.4)\n",
            "Requirement already satisfied: urllib3!=1.25.0,!=1.25.1,<1.26,>=1.21.1 in /usr/local/lib/python3.6/dist-packages (from requests->streamlit) (1.24.3)\n",
            "Requirement already satisfied: idna<3,>=2.5 in /usr/local/lib/python3.6/dist-packages (from requests->streamlit) (2.10)\n",
            "Requirement already satisfied: pytz in /usr/local/lib/python3.6/dist-packages (from tzlocal->streamlit) (2018.9)\n",
            "Requirement already satisfied: pyparsing>=2.0.2 in /usr/local/lib/python3.6/dist-packages (from packaging->streamlit) (2.4.7)\n",
            "Collecting jmespath<1.0.0,>=0.7.1\n",
            "  Downloading https://files.pythonhosted.org/packages/07/cb/5f001272b6faeb23c1c9e0acc04d48eaaf5c862c17709d20e3469c6e0139/jmespath-0.10.0-py2.py3-none-any.whl\n",
            "Requirement already satisfied: jinja2>=2.10.1 in /usr/local/lib/python3.6/dist-packages (from pydeck>=0.1.dev5->streamlit) (2.11.2)\n",
            "Requirement already satisfied: traitlets>=4.3.2 in /usr/local/lib/python3.6/dist-packages (from pydeck>=0.1.dev5->streamlit) (4.3.3)\n",
            "Requirement already satisfied: ipywidgets>=7.0.0 in /usr/local/lib/python3.6/dist-packages (from pydeck>=0.1.dev5->streamlit) (7.5.1)\n",
            "Collecting ipykernel>=5.1.2; python_version >= \"3.4\"\n",
            "\u001b[?25l  Downloading https://files.pythonhosted.org/packages/52/19/c2812690d8b340987eecd2cbc18549b1d130b94c5d97fcbe49f5f8710edf/ipykernel-5.3.4-py3-none-any.whl (120kB)\n",
            "\u001b[K     |████████████████████████████████| 122kB 49.5MB/s \n",
            "\u001b[?25hRequirement already satisfied: setuptools in /usr/local/lib/python3.6/dist-packages (from protobuf!=3.11,>=3.6.0->streamlit) (50.3.2)\n",
            "Collecting s3transfer<0.4.0,>=0.3.0\n",
            "\u001b[?25l  Downloading https://files.pythonhosted.org/packages/69/79/e6afb3d8b0b4e96cefbdc690f741d7dd24547ff1f94240c997a26fa908d3/s3transfer-0.3.3-py2.py3-none-any.whl (69kB)\n",
            "\u001b[K     |████████████████████████████████| 71kB 7.8MB/s \n",
            "\u001b[?25hRequirement already satisfied: toolz in /usr/local/lib/python3.6/dist-packages (from altair>=3.2.0->streamlit) (0.11.1)\n",
            "Requirement already satisfied: jsonschema in /usr/local/lib/python3.6/dist-packages (from altair>=3.2.0->streamlit) (2.6.0)\n",
            "Requirement already satisfied: entrypoints in /usr/local/lib/python3.6/dist-packages (from altair>=3.2.0->streamlit) (0.3)\n",
            "Collecting gitdb<5,>=4.0.1\n",
            "\u001b[?25l  Downloading https://files.pythonhosted.org/packages/48/11/d1800bca0a3bae820b84b7d813ad1eff15a48a64caea9c823fc8c1b119e8/gitdb-4.0.5-py3-none-any.whl (63kB)\n",
            "\u001b[K     |████████████████████████████████| 71kB 9.3MB/s \n",
            "\u001b[?25hRequirement already satisfied: decorator>=3.4.0 in /usr/local/lib/python3.6/dist-packages (from validators->streamlit) (4.4.2)\n",
            "Requirement already satisfied: MarkupSafe>=0.23 in /usr/local/lib/python3.6/dist-packages (from jinja2>=2.10.1->pydeck>=0.1.dev5->streamlit) (1.1.1)\n",
            "Requirement already satisfied: ipython-genutils in /usr/local/lib/python3.6/dist-packages (from traitlets>=4.3.2->pydeck>=0.1.dev5->streamlit) (0.2.0)\n",
            "Requirement already satisfied: nbformat>=4.2.0 in /usr/local/lib/python3.6/dist-packages (from ipywidgets>=7.0.0->pydeck>=0.1.dev5->streamlit) (5.0.8)\n",
            "Requirement already satisfied: widgetsnbextension~=3.5.0 in /usr/local/lib/python3.6/dist-packages (from ipywidgets>=7.0.0->pydeck>=0.1.dev5->streamlit) (3.5.1)\n",
            "Requirement already satisfied: ipython>=4.0.0; python_version >= \"3.3\" in /usr/local/lib/python3.6/dist-packages (from ipywidgets>=7.0.0->pydeck>=0.1.dev5->streamlit) (5.5.0)\n",
            "Requirement already satisfied: jupyter-client in /usr/local/lib/python3.6/dist-packages (from ipykernel>=5.1.2; python_version >= \"3.4\"->pydeck>=0.1.dev5->streamlit) (5.3.5)\n",
            "Collecting smmap<4,>=3.0.1\n",
            "  Downloading https://files.pythonhosted.org/packages/b0/9a/4d409a6234eb940e6a78dfdfc66156e7522262f5f2fecca07dc55915952d/smmap-3.0.4-py2.py3-none-any.whl\n",
            "Requirement already satisfied: jupyter-core in /usr/local/lib/python3.6/dist-packages (from nbformat>=4.2.0->ipywidgets>=7.0.0->pydeck>=0.1.dev5->streamlit) (4.6.3)\n",
            "Requirement already satisfied: notebook>=4.4.1 in /usr/local/lib/python3.6/dist-packages (from widgetsnbextension~=3.5.0->ipywidgets>=7.0.0->pydeck>=0.1.dev5->streamlit) (5.3.1)\n",
            "Requirement already satisfied: simplegeneric>0.8 in /usr/local/lib/python3.6/dist-packages (from ipython>=4.0.0; python_version >= \"3.3\"->ipywidgets>=7.0.0->pydeck>=0.1.dev5->streamlit) (0.8.1)\n",
            "Requirement already satisfied: pickleshare in /usr/local/lib/python3.6/dist-packages (from ipython>=4.0.0; python_version >= \"3.3\"->ipywidgets>=7.0.0->pydeck>=0.1.dev5->streamlit) (0.7.5)\n",
            "Requirement already satisfied: pexpect; sys_platform != \"win32\" in /usr/local/lib/python3.6/dist-packages (from ipython>=4.0.0; python_version >= \"3.3\"->ipywidgets>=7.0.0->pydeck>=0.1.dev5->streamlit) (4.8.0)\n",
            "Requirement already satisfied: prompt-toolkit<2.0.0,>=1.0.4 in /usr/local/lib/python3.6/dist-packages (from ipython>=4.0.0; python_version >= \"3.3\"->ipywidgets>=7.0.0->pydeck>=0.1.dev5->streamlit) (1.0.18)\n",
            "Requirement already satisfied: pygments in /usr/local/lib/python3.6/dist-packages (from ipython>=4.0.0; python_version >= \"3.3\"->ipywidgets>=7.0.0->pydeck>=0.1.dev5->streamlit) (2.6.1)\n",
            "Requirement already satisfied: pyzmq>=13 in /usr/local/lib/python3.6/dist-packages (from jupyter-client->ipykernel>=5.1.2; python_version >= \"3.4\"->pydeck>=0.1.dev5->streamlit) (19.0.2)\n",
            "Requirement already satisfied: Send2Trash in /usr/local/lib/python3.6/dist-packages (from notebook>=4.4.1->widgetsnbextension~=3.5.0->ipywidgets>=7.0.0->pydeck>=0.1.dev5->streamlit) (1.5.0)\n",
            "Requirement already satisfied: terminado>=0.8.1 in /usr/local/lib/python3.6/dist-packages (from notebook>=4.4.1->widgetsnbextension~=3.5.0->ipywidgets>=7.0.0->pydeck>=0.1.dev5->streamlit) (0.9.1)\n",
            "Requirement already satisfied: nbconvert in /usr/local/lib/python3.6/dist-packages (from notebook>=4.4.1->widgetsnbextension~=3.5.0->ipywidgets>=7.0.0->pydeck>=0.1.dev5->streamlit) (5.6.1)\n",
            "Requirement already satisfied: ptyprocess>=0.5 in /usr/local/lib/python3.6/dist-packages (from pexpect; sys_platform != \"win32\"->ipython>=4.0.0; python_version >= \"3.3\"->ipywidgets>=7.0.0->pydeck>=0.1.dev5->streamlit) (0.6.0)\n",
            "Requirement already satisfied: wcwidth in /usr/local/lib/python3.6/dist-packages (from prompt-toolkit<2.0.0,>=1.0.4->ipython>=4.0.0; python_version >= \"3.3\"->ipywidgets>=7.0.0->pydeck>=0.1.dev5->streamlit) (0.2.5)\n",
            "Requirement already satisfied: mistune<2,>=0.8.1 in /usr/local/lib/python3.6/dist-packages (from nbconvert->notebook>=4.4.1->widgetsnbextension~=3.5.0->ipywidgets>=7.0.0->pydeck>=0.1.dev5->streamlit) (0.8.4)\n",
            "Requirement already satisfied: testpath in /usr/local/lib/python3.6/dist-packages (from nbconvert->notebook>=4.4.1->widgetsnbextension~=3.5.0->ipywidgets>=7.0.0->pydeck>=0.1.dev5->streamlit) (0.4.4)\n",
            "Requirement already satisfied: bleach in /usr/local/lib/python3.6/dist-packages (from nbconvert->notebook>=4.4.1->widgetsnbextension~=3.5.0->ipywidgets>=7.0.0->pydeck>=0.1.dev5->streamlit) (3.2.1)\n",
            "Requirement already satisfied: defusedxml in /usr/local/lib/python3.6/dist-packages (from nbconvert->notebook>=4.4.1->widgetsnbextension~=3.5.0->ipywidgets>=7.0.0->pydeck>=0.1.dev5->streamlit) (0.6.0)\n",
            "Requirement already satisfied: pandocfilters>=1.4.1 in /usr/local/lib/python3.6/dist-packages (from nbconvert->notebook>=4.4.1->widgetsnbextension~=3.5.0->ipywidgets>=7.0.0->pydeck>=0.1.dev5->streamlit) (1.4.3)\n",
            "Requirement already satisfied: webencodings in /usr/local/lib/python3.6/dist-packages (from bleach->nbconvert->notebook>=4.4.1->widgetsnbextension~=3.5.0->ipywidgets>=7.0.0->pydeck>=0.1.dev5->streamlit) (0.5.1)\n",
            "Building wheels for collected packages: watchdog, blinker, pathtools\n",
            "  Building wheel for watchdog (setup.py) ... \u001b[?25l\u001b[?25hdone\n",
            "  Created wheel for watchdog: filename=watchdog-0.10.3-cp36-none-any.whl size=73873 sha256=9ad1fa20fefe989bd8ae34bd059e673bfe490527701ea81e0db0243a6541f16d\n",
            "  Stored in directory: /root/.cache/pip/wheels/a8/1d/38/2c19bb311f67cc7b4d07a2ec5ea36ab1a0a0ea50db994a5bc7\n",
            "  Building wheel for blinker (setup.py) ... \u001b[?25l\u001b[?25hdone\n",
            "  Created wheel for blinker: filename=blinker-1.4-cp36-none-any.whl size=13450 sha256=80e40aca39d10c66340371023362bd683191dd76a8bb5436c8f7a22f1fdea36d\n",
            "  Stored in directory: /root/.cache/pip/wheels/92/a0/00/8690a57883956a301d91cf4ec999cc0b258b01e3f548f86e89\n",
            "  Building wheel for pathtools (setup.py) ... \u001b[?25l\u001b[?25hdone\n",
            "  Created wheel for pathtools: filename=pathtools-0.1.2-cp36-none-any.whl size=8785 sha256=f384f4224d84e3169ea221b270b8702f98b1e6a7ffceb9753a6f39fe8aa735e0\n",
            "  Stored in directory: /root/.cache/pip/wheels/0b/04/79/c3b0c3a0266a3cb4376da31e5bfe8bba0c489246968a68e843\n",
            "Successfully built watchdog blinker pathtools\n",
            "\u001b[31mERROR: google-colab 1.0.0 has requirement ipykernel~=4.10, but you'll have ipykernel 5.3.4 which is incompatible.\u001b[0m\n",
            "\u001b[31mERROR: botocore 1.19.23 has requirement urllib3<1.27,>=1.25.4; python_version != \"3.4\", but you'll have urllib3 1.24.3 which is incompatible.\u001b[0m\n",
            "Installing collected packages: pathtools, watchdog, enum-compat, base58, jmespath, botocore, ipykernel, pydeck, s3transfer, boto3, smmap, gitdb, gitpython, validators, blinker, streamlit\n",
            "  Found existing installation: ipykernel 4.10.1\n",
            "    Uninstalling ipykernel-4.10.1:\n",
            "      Successfully uninstalled ipykernel-4.10.1\n",
            "Successfully installed base58-2.0.1 blinker-1.4 boto3-1.16.23 botocore-1.19.23 enum-compat-0.0.3 gitdb-4.0.5 gitpython-3.1.11 ipykernel-5.3.4 jmespath-0.10.0 pathtools-0.1.2 pydeck-0.5.0 s3transfer-0.3.3 smmap-3.0.4 streamlit-0.71.0 validators-0.18.1 watchdog-0.10.3\n"
          ],
          "name": "stdout"
        },
        {
          "output_type": "display_data",
          "data": {
            "application/vnd.colab-display-data+json": {
              "pip_warning": {
                "packages": [
                  "ipykernel"
                ]
              }
            }
          },
          "metadata": {
            "tags": []
          }
        },
        {
          "output_type": "stream",
          "text": [
            "Collecting pyngrok\n",
            "  Downloading https://files.pythonhosted.org/packages/ea/63/e086f165125e9bf2e71c0db2955911baaaa0af8947ab5c7b3771bdf4d4d5/pyngrok-5.0.0.tar.gz\n",
            "Requirement already satisfied: PyYAML in /usr/local/lib/python3.6/dist-packages (from pyngrok) (3.13)\n",
            "Building wheels for collected packages: pyngrok\n",
            "  Building wheel for pyngrok (setup.py) ... \u001b[?25l\u001b[?25hdone\n",
            "  Created wheel for pyngrok: filename=pyngrok-5.0.0-cp36-none-any.whl size=18780 sha256=980af1aae805e92af6d09d56e4940973874568032a6a3d28df9686935f68ac74\n",
            "  Stored in directory: /root/.cache/pip/wheels/95/df/23/af8dde08c3fcdc7b966adcacef48ab29aa3b0b1860df5d2b79\n",
            "Successfully built pyngrok\n",
            "Installing collected packages: pyngrok\n",
            "Successfully installed pyngrok-5.0.0\n",
            "time: 24.9 s\n"
          ],
          "name": "stdout"
        }
      ]
    },
    {
      "cell_type": "code",
      "metadata": {
        "colab": {
          "base_uri": "https://localhost:8080/"
        },
        "id": "Prdf-7EBt9_M",
        "outputId": "f25f0eee-169e-44cf-9f09-e58ee6dafb38"
      },
      "source": [
        "#Webapp\n",
        "%%writefile app.py\n",
        "import streamlit as st\n",
        "import numpy as np\n",
        "from skimage.io import imread\n",
        "from skimage.transform import resize\n",
        "import pickle\n",
        "from PIL import Image\n",
        "st.set_option(\"depreciation.showfileUploaderEncoding\",False)\n",
        "st.title('Image Classifier using Machine Learning')\n",
        "st.text(\"Upload the Image\")\n",
        "mode=pickle.load(open(\"img_model.p\",\"rb\"))\n",
        "uploaded_file=st.file_uploaded(\"Choose an image ...\",type=\"jpg\")\n",
        "if uploaded_file is not None:\n",
        "  img=Image.open(uploaded_file)\n",
        "  st.image(img,caption=\"Uploaded Image\")\n",
        "if st.button(\"PREDICT\") :\n",
        "  CATEGORIES=[\"Wolf\",\"Hibiscus\",\"Rugby Ball\",\"Cars\"]\n",
        "  st.write(\"RESULT...\")\n",
        "  flat_data=[]\n",
        "  img=np.array(img)\n",
        "  img_resized=resize(img,(150,150,3))\n",
        "  flat_data.append(img_resized.flatten())\n",
        "  flat_data=np.array(flat_data)\n",
        "  plt.imshow(img_resized)\n",
        "  y_out=model.predict(flat_data)\n",
        "  y_out=CATEGORIES[y_out[0]]\n",
        "  st.title(f'PREDICTED OUTPUT:{y_out}')\n",
        "   \n",
        "  \n",
        "   "
      ],
      "execution_count": null,
      "outputs": [
        {
          "output_type": "stream",
          "text": [
            "Overwriting app.py\n",
            "time: 2.93 ms\n"
          ],
          "name": "stdout"
        }
      ]
    },
    {
      "cell_type": "code",
      "metadata": {
        "colab": {
          "base_uri": "https://localhost:8080/"
        },
        "id": "-2GAD8PYuC9D",
        "outputId": "3e85d04e-a025-47ec-faa1-ad3bcd563deb"
      },
      "source": [
        "!nohup streamlit run app.py &\n",
        "url=ngrok.connect(port=\"8501\")\n",
        "url"
      ],
      "execution_count": null,
      "outputs": [
        {
          "output_type": "stream",
          "text": [
            "nohup: appending output to 'nohup.out'\n"
          ],
          "name": "stdout"
        },
        {
          "output_type": "stream",
          "text": [
            "t=2020-11-21T13:39:25+0000 lvl=warn msg=\"failed to start tunnel\" pg=/api/tunnels id=ece642dcc73f4e06 err=\"Your account may not run more than 2 tunnels over a single ngrok client session.\\nThe tunnels already running on this session are:\\n[https://2905336c0927.ngrok.io http://2905336c0927.ngrok.io]\\n\\r\\n\\r\\nERR_NGROK_324\\r\\n\"\n"
          ],
          "name": "stderr"
        },
        {
          "output_type": "error",
          "ename": "PyngrokNgrokHTTPError",
          "evalue": "ignored",
          "traceback": [
            "\u001b[0;31m---------------------------------------------------------------------------\u001b[0m",
            "\u001b[0;31mHTTPError\u001b[0m                                 Traceback (most recent call last)",
            "\u001b[0;32m/usr/local/lib/python3.6/dist-packages/pyngrok/ngrok.py\u001b[0m in \u001b[0;36mapi_request\u001b[0;34m(url, method, data, params, timeout)\u001b[0m\n\u001b[1;32m    433\u001b[0m     \u001b[0;32mtry\u001b[0m\u001b[0;34m:\u001b[0m\u001b[0;34m\u001b[0m\u001b[0;34m\u001b[0m\u001b[0m\n\u001b[0;32m--> 434\u001b[0;31m         \u001b[0mresponse\u001b[0m \u001b[0;34m=\u001b[0m \u001b[0murlopen\u001b[0m\u001b[0;34m(\u001b[0m\u001b[0mrequest\u001b[0m\u001b[0;34m,\u001b[0m \u001b[0mdata\u001b[0m\u001b[0;34m,\u001b[0m \u001b[0mtimeout\u001b[0m\u001b[0;34m)\u001b[0m\u001b[0;34m\u001b[0m\u001b[0;34m\u001b[0m\u001b[0m\n\u001b[0m\u001b[1;32m    435\u001b[0m         \u001b[0mresponse_data\u001b[0m \u001b[0;34m=\u001b[0m \u001b[0mresponse\u001b[0m\u001b[0;34m.\u001b[0m\u001b[0mread\u001b[0m\u001b[0;34m(\u001b[0m\u001b[0;34m)\u001b[0m\u001b[0;34m.\u001b[0m\u001b[0mdecode\u001b[0m\u001b[0;34m(\u001b[0m\u001b[0;34m\"utf-8\"\u001b[0m\u001b[0;34m)\u001b[0m\u001b[0;34m\u001b[0m\u001b[0;34m\u001b[0m\u001b[0m\n",
            "\u001b[0;32m/usr/lib/python3.6/urllib/request.py\u001b[0m in \u001b[0;36murlopen\u001b[0;34m(url, data, timeout, cafile, capath, cadefault, context)\u001b[0m\n\u001b[1;32m    222\u001b[0m         \u001b[0mopener\u001b[0m \u001b[0;34m=\u001b[0m \u001b[0m_opener\u001b[0m\u001b[0;34m\u001b[0m\u001b[0;34m\u001b[0m\u001b[0m\n\u001b[0;32m--> 223\u001b[0;31m     \u001b[0;32mreturn\u001b[0m \u001b[0mopener\u001b[0m\u001b[0;34m.\u001b[0m\u001b[0mopen\u001b[0m\u001b[0;34m(\u001b[0m\u001b[0murl\u001b[0m\u001b[0;34m,\u001b[0m \u001b[0mdata\u001b[0m\u001b[0;34m,\u001b[0m \u001b[0mtimeout\u001b[0m\u001b[0;34m)\u001b[0m\u001b[0;34m\u001b[0m\u001b[0;34m\u001b[0m\u001b[0m\n\u001b[0m\u001b[1;32m    224\u001b[0m \u001b[0;34m\u001b[0m\u001b[0m\n",
            "\u001b[0;32m/usr/lib/python3.6/urllib/request.py\u001b[0m in \u001b[0;36mopen\u001b[0;34m(self, fullurl, data, timeout)\u001b[0m\n\u001b[1;32m    531\u001b[0m             \u001b[0mmeth\u001b[0m \u001b[0;34m=\u001b[0m \u001b[0mgetattr\u001b[0m\u001b[0;34m(\u001b[0m\u001b[0mprocessor\u001b[0m\u001b[0;34m,\u001b[0m \u001b[0mmeth_name\u001b[0m\u001b[0;34m)\u001b[0m\u001b[0;34m\u001b[0m\u001b[0;34m\u001b[0m\u001b[0m\n\u001b[0;32m--> 532\u001b[0;31m             \u001b[0mresponse\u001b[0m \u001b[0;34m=\u001b[0m \u001b[0mmeth\u001b[0m\u001b[0;34m(\u001b[0m\u001b[0mreq\u001b[0m\u001b[0;34m,\u001b[0m \u001b[0mresponse\u001b[0m\u001b[0;34m)\u001b[0m\u001b[0;34m\u001b[0m\u001b[0;34m\u001b[0m\u001b[0m\n\u001b[0m\u001b[1;32m    533\u001b[0m \u001b[0;34m\u001b[0m\u001b[0m\n",
            "\u001b[0;32m/usr/lib/python3.6/urllib/request.py\u001b[0m in \u001b[0;36mhttp_response\u001b[0;34m(self, request, response)\u001b[0m\n\u001b[1;32m    641\u001b[0m             response = self.parent.error(\n\u001b[0;32m--> 642\u001b[0;31m                 'http', request, response, code, msg, hdrs)\n\u001b[0m\u001b[1;32m    643\u001b[0m \u001b[0;34m\u001b[0m\u001b[0m\n",
            "\u001b[0;32m/usr/lib/python3.6/urllib/request.py\u001b[0m in \u001b[0;36merror\u001b[0;34m(self, proto, *args)\u001b[0m\n\u001b[1;32m    569\u001b[0m             \u001b[0margs\u001b[0m \u001b[0;34m=\u001b[0m \u001b[0;34m(\u001b[0m\u001b[0mdict\u001b[0m\u001b[0;34m,\u001b[0m \u001b[0;34m'default'\u001b[0m\u001b[0;34m,\u001b[0m \u001b[0;34m'http_error_default'\u001b[0m\u001b[0;34m)\u001b[0m \u001b[0;34m+\u001b[0m \u001b[0morig_args\u001b[0m\u001b[0;34m\u001b[0m\u001b[0;34m\u001b[0m\u001b[0m\n\u001b[0;32m--> 570\u001b[0;31m             \u001b[0;32mreturn\u001b[0m \u001b[0mself\u001b[0m\u001b[0;34m.\u001b[0m\u001b[0m_call_chain\u001b[0m\u001b[0;34m(\u001b[0m\u001b[0;34m*\u001b[0m\u001b[0margs\u001b[0m\u001b[0;34m)\u001b[0m\u001b[0;34m\u001b[0m\u001b[0;34m\u001b[0m\u001b[0m\n\u001b[0m\u001b[1;32m    571\u001b[0m \u001b[0;34m\u001b[0m\u001b[0m\n",
            "\u001b[0;32m/usr/lib/python3.6/urllib/request.py\u001b[0m in \u001b[0;36m_call_chain\u001b[0;34m(self, chain, kind, meth_name, *args)\u001b[0m\n\u001b[1;32m    503\u001b[0m             \u001b[0mfunc\u001b[0m \u001b[0;34m=\u001b[0m \u001b[0mgetattr\u001b[0m\u001b[0;34m(\u001b[0m\u001b[0mhandler\u001b[0m\u001b[0;34m,\u001b[0m \u001b[0mmeth_name\u001b[0m\u001b[0;34m)\u001b[0m\u001b[0;34m\u001b[0m\u001b[0;34m\u001b[0m\u001b[0m\n\u001b[0;32m--> 504\u001b[0;31m             \u001b[0mresult\u001b[0m \u001b[0;34m=\u001b[0m \u001b[0mfunc\u001b[0m\u001b[0;34m(\u001b[0m\u001b[0;34m*\u001b[0m\u001b[0margs\u001b[0m\u001b[0;34m)\u001b[0m\u001b[0;34m\u001b[0m\u001b[0;34m\u001b[0m\u001b[0m\n\u001b[0m\u001b[1;32m    505\u001b[0m             \u001b[0;32mif\u001b[0m \u001b[0mresult\u001b[0m \u001b[0;32mis\u001b[0m \u001b[0;32mnot\u001b[0m \u001b[0;32mNone\u001b[0m\u001b[0;34m:\u001b[0m\u001b[0;34m\u001b[0m\u001b[0;34m\u001b[0m\u001b[0m\n",
            "\u001b[0;32m/usr/lib/python3.6/urllib/request.py\u001b[0m in \u001b[0;36mhttp_error_default\u001b[0;34m(self, req, fp, code, msg, hdrs)\u001b[0m\n\u001b[1;32m    649\u001b[0m     \u001b[0;32mdef\u001b[0m \u001b[0mhttp_error_default\u001b[0m\u001b[0;34m(\u001b[0m\u001b[0mself\u001b[0m\u001b[0;34m,\u001b[0m \u001b[0mreq\u001b[0m\u001b[0;34m,\u001b[0m \u001b[0mfp\u001b[0m\u001b[0;34m,\u001b[0m \u001b[0mcode\u001b[0m\u001b[0;34m,\u001b[0m \u001b[0mmsg\u001b[0m\u001b[0;34m,\u001b[0m \u001b[0mhdrs\u001b[0m\u001b[0;34m)\u001b[0m\u001b[0;34m:\u001b[0m\u001b[0;34m\u001b[0m\u001b[0;34m\u001b[0m\u001b[0m\n\u001b[0;32m--> 650\u001b[0;31m         \u001b[0;32mraise\u001b[0m \u001b[0mHTTPError\u001b[0m\u001b[0;34m(\u001b[0m\u001b[0mreq\u001b[0m\u001b[0;34m.\u001b[0m\u001b[0mfull_url\u001b[0m\u001b[0;34m,\u001b[0m \u001b[0mcode\u001b[0m\u001b[0;34m,\u001b[0m \u001b[0mmsg\u001b[0m\u001b[0;34m,\u001b[0m \u001b[0mhdrs\u001b[0m\u001b[0;34m,\u001b[0m \u001b[0mfp\u001b[0m\u001b[0;34m)\u001b[0m\u001b[0;34m\u001b[0m\u001b[0;34m\u001b[0m\u001b[0m\n\u001b[0m\u001b[1;32m    651\u001b[0m \u001b[0;34m\u001b[0m\u001b[0m\n",
            "\u001b[0;31mHTTPError\u001b[0m: HTTP Error 502: Bad Gateway",
            "\nDuring handling of the above exception, another exception occurred:\n",
            "\u001b[0;31mPyngrokNgrokHTTPError\u001b[0m                     Traceback (most recent call last)",
            "\u001b[0;32m<ipython-input-53-fea21e4f43f0>\u001b[0m in \u001b[0;36m<module>\u001b[0;34m()\u001b[0m\n\u001b[1;32m      1\u001b[0m \u001b[0mget_ipython\u001b[0m\u001b[0;34m(\u001b[0m\u001b[0;34m)\u001b[0m\u001b[0;34m.\u001b[0m\u001b[0msystem\u001b[0m\u001b[0;34m(\u001b[0m\u001b[0;34m'nohup streamlit run app.py &'\u001b[0m\u001b[0;34m)\u001b[0m\u001b[0;34m\u001b[0m\u001b[0;34m\u001b[0m\u001b[0m\n\u001b[0;32m----> 2\u001b[0;31m \u001b[0murl\u001b[0m\u001b[0;34m=\u001b[0m\u001b[0mngrok\u001b[0m\u001b[0;34m.\u001b[0m\u001b[0mconnect\u001b[0m\u001b[0;34m(\u001b[0m\u001b[0mport\u001b[0m\u001b[0;34m=\u001b[0m\u001b[0;34m\"8501\"\u001b[0m\u001b[0;34m)\u001b[0m\u001b[0;34m\u001b[0m\u001b[0;34m\u001b[0m\u001b[0m\n\u001b[0m\u001b[1;32m      3\u001b[0m \u001b[0murl\u001b[0m\u001b[0;34m\u001b[0m\u001b[0;34m\u001b[0m\u001b[0m\n",
            "\u001b[0;32m/usr/local/lib/python3.6/dist-packages/pyngrok/ngrok.py\u001b[0m in \u001b[0;36mconnect\u001b[0;34m(addr, proto, name, pyngrok_config, **options)\u001b[0m\n\u001b[1;32m    248\u001b[0m \u001b[0;34m\u001b[0m\u001b[0m\n\u001b[1;32m    249\u001b[0m     tunnel = NgrokTunnel(api_request(\"{}/api/tunnels\".format(api_url), method=\"POST\", data=options,\n\u001b[0;32m--> 250\u001b[0;31m                                      timeout=pyngrok_config.request_timeout),\n\u001b[0m\u001b[1;32m    251\u001b[0m                          pyngrok_config, api_url)\n\u001b[1;32m    252\u001b[0m \u001b[0;34m\u001b[0m\u001b[0m\n",
            "\u001b[0;32m/usr/local/lib/python3.6/dist-packages/pyngrok/ngrok.py\u001b[0m in \u001b[0;36mapi_request\u001b[0;34m(url, method, data, params, timeout)\u001b[0m\n\u001b[1;32m    455\u001b[0m         raise PyngrokNgrokHTTPError(\"ngrok client exception, API returned {}: {}\".format(status_code, response_data),\n\u001b[1;32m    456\u001b[0m                                     \u001b[0me\u001b[0m\u001b[0;34m.\u001b[0m\u001b[0murl\u001b[0m\u001b[0;34m,\u001b[0m\u001b[0;34m\u001b[0m\u001b[0;34m\u001b[0m\u001b[0m\n\u001b[0;32m--> 457\u001b[0;31m                                     status_code, e.msg, e.hdrs, response_data)\n\u001b[0m\u001b[1;32m    458\u001b[0m     \u001b[0;32mexcept\u001b[0m \u001b[0mURLError\u001b[0m \u001b[0;32mas\u001b[0m \u001b[0me\u001b[0m\u001b[0;34m:\u001b[0m\u001b[0;34m\u001b[0m\u001b[0;34m\u001b[0m\u001b[0m\n\u001b[1;32m    459\u001b[0m         \u001b[0;32mraise\u001b[0m \u001b[0mPyngrokNgrokURLError\u001b[0m\u001b[0;34m(\u001b[0m\u001b[0;34m\"ngrok client exception, URLError: {}\"\u001b[0m\u001b[0;34m.\u001b[0m\u001b[0mformat\u001b[0m\u001b[0;34m(\u001b[0m\u001b[0me\u001b[0m\u001b[0;34m.\u001b[0m\u001b[0mreason\u001b[0m\u001b[0;34m)\u001b[0m\u001b[0;34m,\u001b[0m \u001b[0me\u001b[0m\u001b[0;34m.\u001b[0m\u001b[0mreason\u001b[0m\u001b[0;34m)\u001b[0m\u001b[0;34m\u001b[0m\u001b[0;34m\u001b[0m\u001b[0m\n",
            "\u001b[0;31mPyngrokNgrokHTTPError\u001b[0m: ngrok client exception, API returned 502: {\"error_code\":103,\"status_code\":502,\"msg\":\"failed to start tunnel\",\"details\":{\"err\":\"Your account may not run more than 2 tunnels over a single ngrok client session.\\nThe tunnels already running on this session are:\\n[https://2905336c0927.ngrok.io http://2905336c0927.ngrok.io]\\n\\r\\n\\r\\nERR_NGROK_324\\r\\n\"}}\n"
          ]
        },
        {
          "output_type": "stream",
          "text": [
            "time: 384 ms\n"
          ],
          "name": "stdout"
        }
      ]
    },
    {
      "cell_type": "code",
      "metadata": {
        "id": "NYwQcRUB2bLI"
      },
      "source": [
        ""
      ],
      "execution_count": null,
      "outputs": []
    }
  ]
}